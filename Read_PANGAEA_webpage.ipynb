{
 "cells": [
  {
   "cell_type": "markdown",
   "id": "6d81f7c3-f46d-4f1e-864c-7d88159ae8ff",
   "metadata": {},
   "source": [
    "### Purpose\n",
    "\n",
    "As the citation date is not always available from the elastic search request, we can search for the first date '(YYYY)' that appears in the description meta tag from the web page.\n",
    "Do a view source of the web page to see the structure and the different tags. In this case we search for the content of the tag ```<meta name=\"description\">```\n",
    "\n",
    "Examples :\n",
    " * https://doi.pangaea.de/10.1594/PANGAEA.826455\n",
    "   - Elastic search request: https://ws.pangaea.de/es/dataportal-oa-icc/pansimple/_search?q=_id:PANGAEA.826455\n",
    " * https://doi.pangaea.de/10.1594/PANGAEA.959648\n",
    "   - Elastic search request: https://ws.pangaea.de/es/dataportal-oa-icc/pansimple/_search?q=_id:PANGAEA.959648 \n",
    "   \n",
    "There are other tags with dates but they all appear with ```<meta name=\"DC.relation\"``` so cannot distinguish them between 'Supplement to', 'Source' and 'Documentation'."
   ]
  },
  {
   "cell_type": "code",
   "execution_count": 1,
   "id": "b94ccdf1-73d4-462a-9ccd-e87c0df8ad8b",
   "metadata": {
    "execution": {
     "iopub.execute_input": "2023-07-06T08:35:57.478850Z",
     "iopub.status.busy": "2023-07-06T08:35:57.478588Z",
     "iopub.status.idle": "2023-07-06T08:35:57.617515Z",
     "shell.execute_reply": "2023-07-06T08:35:57.616749Z",
     "shell.execute_reply.started": "2023-07-06T08:35:57.478824Z"
    },
    "tags": []
   },
   "outputs": [],
   "source": [
    "import requests\n",
    "from bs4 import BeautifulSoup\n",
    "import re"
   ]
  },
  {
   "cell_type": "markdown",
   "id": "4b526d83-2b81-48d4-931e-ad8846152181",
   "metadata": {
    "execution": {
     "iopub.execute_input": "2023-07-06T07:51:00.204181Z",
     "iopub.status.busy": "2023-07-06T07:51:00.203741Z",
     "iopub.status.idle": "2023-07-06T07:51:00.208545Z",
     "shell.execute_reply": "2023-07-06T07:51:00.207476Z",
     "shell.execute_reply.started": "2023-07-06T07:51:00.204153Z"
    },
    "tags": []
   },
   "source": [
    "#### Try some codes"
   ]
  },
  {
   "cell_type": "code",
   "execution_count": 2,
   "id": "411b8435-4471-4dc5-bf3c-a1ae91ce0723",
   "metadata": {
    "execution": {
     "iopub.execute_input": "2023-07-06T08:35:59.496075Z",
     "iopub.status.busy": "2023-07-06T08:35:59.495290Z",
     "iopub.status.idle": "2023-07-06T08:35:59.919446Z",
     "shell.execute_reply": "2023-07-06T08:35:59.918860Z",
     "shell.execute_reply.started": "2023-07-06T08:35:59.496037Z"
    },
    "tags": []
   },
   "outputs": [
    {
     "data": {
      "text/plain": [
       "'Takolander, Antti; Cabeza, Mar; Leskinen, Elina (2023): Seawater carbonate chemistry and ecophysiology of brown macroalga Fucus vesiculosus L. PANGAEA, https://doi.pangaea.de/10.1594/PANGAEA.959648 (DOI registration in progress)'"
      ]
     },
     "execution_count": 2,
     "metadata": {},
     "output_type": "execute_result"
    }
   ],
   "source": [
    "url = \"https://doi.pangaea.de/10.1594/PANGAEA.959648\"\n",
    "page = requests.get(url)\n",
    "soup = BeautifulSoup(page.content, \"html.parser\")\n",
    "content = soup.find('meta', {'name':'description'}).get('content')\n",
    "content"
   ]
  },
  {
   "cell_type": "code",
   "execution_count": 3,
   "id": "221c0dc2-301d-4ac2-84db-3e42ffb81348",
   "metadata": {
    "execution": {
     "iopub.execute_input": "2023-07-06T08:36:00.571533Z",
     "iopub.status.busy": "2023-07-06T08:36:00.570190Z",
     "iopub.status.idle": "2023-07-06T08:36:00.587277Z",
     "shell.execute_reply": "2023-07-06T08:36:00.585641Z",
     "shell.execute_reply.started": "2023-07-06T08:36:00.571405Z"
    },
    "tags": []
   },
   "outputs": [
    {
     "data": {
      "text/plain": [
       "'2023'"
      ]
     },
     "execution_count": 3,
     "metadata": {},
     "output_type": "execute_result"
    }
   ],
   "source": [
    "m = re.search(r\"([0-9]{4})\", content)\n",
    "m.group(0)"
   ]
  },
  {
   "cell_type": "markdown",
   "id": "6e0b6712-f05b-4d83-8e98-876733945ca8",
   "metadata": {
    "execution": {
     "iopub.execute_input": "2023-07-06T07:51:34.666550Z",
     "iopub.status.busy": "2023-07-06T07:51:34.666216Z",
     "iopub.status.idle": "2023-07-06T07:51:34.670904Z",
     "shell.execute_reply": "2023-07-06T07:51:34.669833Z",
     "shell.execute_reply.started": "2023-07-06T07:51:34.666516Z"
    },
    "tags": []
   },
   "source": [
    "#### Make a function from previous lines"
   ]
  },
  {
   "cell_type": "code",
   "execution_count": 4,
   "id": "bf9b4067-3ef1-4235-b641-b449abfda0b7",
   "metadata": {
    "execution": {
     "iopub.execute_input": "2023-07-06T08:36:02.554960Z",
     "iopub.status.busy": "2023-07-06T08:36:02.554592Z",
     "iopub.status.idle": "2023-07-06T08:36:02.562423Z",
     "shell.execute_reply": "2023-07-06T08:36:02.561087Z",
     "shell.execute_reply.started": "2023-07-06T08:36:02.554929Z"
    },
    "tags": []
   },
   "outputs": [],
   "source": [
    "def get_date_from_description(url):\n",
    "    try:\n",
    "        page = requests.get(url)\n",
    "        soup = BeautifulSoup(page.content, \"html.parser\")\n",
    "        content = soup.find('meta', {'name':'description'}).get('content')\n",
    "        m = re.search(r\"([0-9]{4})\", content)\n",
    "        date = int(m.group(0))\n",
    "    except:\n",
    "        date = None\n",
    "    return date"
   ]
  },
  {
   "cell_type": "code",
   "execution_count": 5,
   "id": "46f83909-a05d-4998-a49e-cfc41c66630e",
   "metadata": {
    "execution": {
     "iopub.execute_input": "2023-07-06T08:36:03.405185Z",
     "iopub.status.busy": "2023-07-06T08:36:03.404116Z",
     "iopub.status.idle": "2023-07-06T08:36:03.806257Z",
     "shell.execute_reply": "2023-07-06T08:36:03.805577Z",
     "shell.execute_reply.started": "2023-07-06T08:36:03.405090Z"
    },
    "tags": []
   },
   "outputs": [
    {
     "data": {
      "text/plain": [
       "2023"
      ]
     },
     "execution_count": 5,
     "metadata": {},
     "output_type": "execute_result"
    }
   ],
   "source": [
    "get_date_from_description(\"https://doi.pangaea.de/10.1594/PANGAEA.959648\")"
   ]
  },
  {
   "cell_type": "code",
   "execution_count": null,
   "id": "54312473-d6cd-4f55-b7ad-11775d689a38",
   "metadata": {},
   "outputs": [],
   "source": []
  }
 ],
 "metadata": {
  "kernelspec": {
   "display_name": "Python 3 (ipykernel)",
   "language": "python",
   "name": "python3"
  },
  "language_info": {
   "codemirror_mode": {
    "name": "ipython",
    "version": 3
   },
   "file_extension": ".py",
   "mimetype": "text/x-python",
   "name": "python",
   "nbconvert_exporter": "python",
   "pygments_lexer": "ipython3",
   "version": "3.10.11"
  }
 },
 "nbformat": 4,
 "nbformat_minor": 5
}
