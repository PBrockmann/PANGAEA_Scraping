{
 "cells": [
  {
   "cell_type": "markdown",
   "id": "03b22b61-ba22-45b0-b4f5-fc047f3e094a",
   "metadata": {},
   "source": [
    "Patrick BROCKMANN - LSCE (Climate and Environment Sciences Laboratory)\n",
    "\n",
    "2021/11/04\n",
    "\n",
    "<img align=\"left\" width=\"50%\" src=\"http://www.lsce.ipsl.fr/Css/img/banniere_LSCE_75.png\" >"
   ]
  },
  {
   "cell_type": "code",
   "execution_count": 1,
   "id": "d02f83a5-7ec7-4fe1-91d2-3411e1a11fba",
   "metadata": {},
   "outputs": [],
   "source": [
    "import pandas as pd\n",
    "import matplotlib.pyplot as plt"
   ]
  },
  {
   "cell_type": "code",
   "execution_count": 24,
   "id": "db370330-3074-435f-afd1-eb8161acd9f5",
   "metadata": {},
   "outputs": [],
   "source": [
    "df = pd.read_csv(\"OAICC_20211012.csv\")"
   ]
  },
  {
   "cell_type": "code",
   "execution_count": 25,
   "id": "0c19954c-0b4f-41f4-8825-9d1e15416216",
   "metadata": {},
   "outputs": [
    {
     "data": {
      "text/html": [
       "<div>\n",
       "<style scoped>\n",
       "    .dataframe tbody tr th:only-of-type {\n",
       "        vertical-align: middle;\n",
       "    }\n",
       "\n",
       "    .dataframe tbody tr th {\n",
       "        vertical-align: top;\n",
       "    }\n",
       "\n",
       "    .dataframe thead th {\n",
       "        text-align: right;\n",
       "    }\n",
       "</style>\n",
       "<table border=\"1\" class=\"dataframe\">\n",
       "  <thead>\n",
       "    <tr style=\"text-align: right;\">\n",
       "      <th></th>\n",
       "      <th>Reference</th>\n",
       "      <th>DOI</th>\n",
       "      <th>DOI_PANGAEA</th>\n",
       "      <th>Included/Not included</th>\n",
       "      <th>Reason for non inclusion</th>\n",
       "      <th>Country</th>\n",
       "      <th>Year</th>\n",
       "    </tr>\n",
       "  </thead>\n",
       "  <tbody>\n",
       "    <tr>\n",
       "      <th>0</th>\n",
       "      <td>Ahnelt, H., Schade, F. M., &amp; Wegner, M., 2016....</td>\n",
       "      <td>doi:10.1111/jfd.12417</td>\n",
       "      <td>NaN</td>\n",
       "      <td>Not included</td>\n",
       "      <td>&lt; 2 carbonate chemistry parameters</td>\n",
       "      <td>EU-Austria</td>\n",
       "      <td>2016</td>\n",
       "    </tr>\n",
       "    <tr>\n",
       "      <th>1</th>\n",
       "      <td>Ahrendt, S., Mobberley, J., Visscher, P., Koss...</td>\n",
       "      <td>doi:10.3390/min4010145</td>\n",
       "      <td>NaN</td>\n",
       "      <td>Not included</td>\n",
       "      <td>&lt; 2 carbonate chemistry parameters</td>\n",
       "      <td>USA</td>\n",
       "      <td>2014</td>\n",
       "    </tr>\n",
       "    <tr>\n",
       "      <th>2</th>\n",
       "      <td>Aires, T., Serebryakova, A., Viard, F., Serrão...</td>\n",
       "      <td>doi:10.7717/peerj.4377</td>\n",
       "      <td>NaN</td>\n",
       "      <td>Not included</td>\n",
       "      <td>&lt; 2 carbonate chemistry parameters</td>\n",
       "      <td>EU-Portugal</td>\n",
       "      <td>2018</td>\n",
       "    </tr>\n",
       "    <tr>\n",
       "      <th>3</th>\n",
       "      <td>Al-Awlaqi, N. A. N., Shazili, N. A. M., &amp; Yuso...</td>\n",
       "      <td>doi:10.17576/mjas-2019-2306-10</td>\n",
       "      <td>NaN</td>\n",
       "      <td>Not included</td>\n",
       "      <td>&lt; 2 carbonate chemistry parameters</td>\n",
       "      <td>Malaysia</td>\n",
       "      <td>2019</td>\n",
       "    </tr>\n",
       "    <tr>\n",
       "      <th>4</th>\n",
       "      <td>Al-Janabi, B., Kruse, I., Graiff, A., Winde, V...</td>\n",
       "      <td>doi:10.1371/journal.pone.0152948</td>\n",
       "      <td>NaN</td>\n",
       "      <td>Not included</td>\n",
       "      <td>&lt; 2 carbonate chemistry parameters</td>\n",
       "      <td>EU-Germany</td>\n",
       "      <td>2016</td>\n",
       "    </tr>\n",
       "    <tr>\n",
       "      <th>...</th>\n",
       "      <td>...</td>\n",
       "      <td>...</td>\n",
       "      <td>...</td>\n",
       "      <td>...</td>\n",
       "      <td>...</td>\n",
       "      <td>...</td>\n",
       "      <td>...</td>\n",
       "    </tr>\n",
       "    <tr>\n",
       "      <th>2744</th>\n",
       "      <td>Zittier, Z. M. C., Hirse, T., &amp; Pörtner, H.-O....</td>\n",
       "      <td>doi:10.1007/s00227-012-2073-8</td>\n",
       "      <td>10.1594/PANGAEA.821402</td>\n",
       "      <td>Included</td>\n",
       "      <td>NaN</td>\n",
       "      <td>EU-Germany</td>\n",
       "      <td>2013</td>\n",
       "    </tr>\n",
       "    <tr>\n",
       "      <th>2745</th>\n",
       "      <td>Ziveri, P., Passaro, M., Incarbona, A., Milazz...</td>\n",
       "      <td>doi:10.1086/BBLv226n3p282</td>\n",
       "      <td>10.1594/PANGAEA.838830</td>\n",
       "      <td>Included</td>\n",
       "      <td>NaN</td>\n",
       "      <td>EU-Spain</td>\n",
       "      <td>2014</td>\n",
       "    </tr>\n",
       "    <tr>\n",
       "      <th>2746</th>\n",
       "      <td>Zlatkin, R. L., &amp; Heuer, R. M., 2019. Ocean ac...</td>\n",
       "      <td>doi:10.1098/rsos.191041</td>\n",
       "      <td>10.1594/PANGAEA.912287</td>\n",
       "      <td>Included</td>\n",
       "      <td>NaN</td>\n",
       "      <td>USA</td>\n",
       "      <td>2019</td>\n",
       "    </tr>\n",
       "    <tr>\n",
       "      <th>2747</th>\n",
       "      <td>Zondervan, I., Rost, B., &amp; Riebesell, U., 2002...</td>\n",
       "      <td>doi:10.1016/S0022-0981(02)00037-0</td>\n",
       "      <td>10.1594/PANGAEA.726883</td>\n",
       "      <td>Included</td>\n",
       "      <td>NaN</td>\n",
       "      <td>EU-Germany</td>\n",
       "      <td>2002</td>\n",
       "    </tr>\n",
       "    <tr>\n",
       "      <th>2748</th>\n",
       "      <td>Zondervan, I., Zeebe, R. E., Rost, B., &amp; Riebe...</td>\n",
       "      <td>doi:10.1029/2000GB001321</td>\n",
       "      <td>10.1594/PANGAEA.726883</td>\n",
       "      <td>Included</td>\n",
       "      <td>NaN</td>\n",
       "      <td>EU-Germany</td>\n",
       "      <td>2001</td>\n",
       "    </tr>\n",
       "  </tbody>\n",
       "</table>\n",
       "<p>2749 rows × 7 columns</p>\n",
       "</div>"
      ],
      "text/plain": [
       "                                              Reference  \\\n",
       "0     Ahnelt, H., Schade, F. M., & Wegner, M., 2016....   \n",
       "1     Ahrendt, S., Mobberley, J., Visscher, P., Koss...   \n",
       "2     Aires, T., Serebryakova, A., Viard, F., Serrão...   \n",
       "3     Al-Awlaqi, N. A. N., Shazili, N. A. M., & Yuso...   \n",
       "4     Al-Janabi, B., Kruse, I., Graiff, A., Winde, V...   \n",
       "...                                                 ...   \n",
       "2744  Zittier, Z. M. C., Hirse, T., & Pörtner, H.-O....   \n",
       "2745  Ziveri, P., Passaro, M., Incarbona, A., Milazz...   \n",
       "2746  Zlatkin, R. L., & Heuer, R. M., 2019. Ocean ac...   \n",
       "2747  Zondervan, I., Rost, B., & Riebesell, U., 2002...   \n",
       "2748  Zondervan, I., Zeebe, R. E., Rost, B., & Riebe...   \n",
       "\n",
       "                                    DOI             DOI_PANGAEA  \\\n",
       "0                 doi:10.1111/jfd.12417                     NaN   \n",
       "1                doi:10.3390/min4010145                     NaN   \n",
       "2                doi:10.7717/peerj.4377                     NaN   \n",
       "3        doi:10.17576/mjas-2019-2306-10                     NaN   \n",
       "4      doi:10.1371/journal.pone.0152948                     NaN   \n",
       "...                                 ...                     ...   \n",
       "2744      doi:10.1007/s00227-012-2073-8  10.1594/PANGAEA.821402   \n",
       "2745          doi:10.1086/BBLv226n3p282  10.1594/PANGAEA.838830   \n",
       "2746            doi:10.1098/rsos.191041  10.1594/PANGAEA.912287   \n",
       "2747  doi:10.1016/S0022-0981(02)00037-0  10.1594/PANGAEA.726883   \n",
       "2748           doi:10.1029/2000GB001321  10.1594/PANGAEA.726883   \n",
       "\n",
       "     Included/Not included            Reason for non inclusion      Country  \\\n",
       "0             Not included  < 2 carbonate chemistry parameters   EU-Austria   \n",
       "1             Not included  < 2 carbonate chemistry parameters          USA   \n",
       "2             Not included  < 2 carbonate chemistry parameters  EU-Portugal   \n",
       "3             Not included  < 2 carbonate chemistry parameters     Malaysia   \n",
       "4             Not included  < 2 carbonate chemistry parameters   EU-Germany   \n",
       "...                    ...                                 ...          ...   \n",
       "2744              Included                                 NaN   EU-Germany   \n",
       "2745              Included                                 NaN     EU-Spain   \n",
       "2746              Included                                 NaN          USA   \n",
       "2747              Included                                 NaN   EU-Germany   \n",
       "2748              Included                                 NaN   EU-Germany   \n",
       "\n",
       "      Year  \n",
       "0     2016  \n",
       "1     2014  \n",
       "2     2018  \n",
       "3     2019  \n",
       "4     2016  \n",
       "...    ...  \n",
       "2744  2013  \n",
       "2745  2014  \n",
       "2746  2019  \n",
       "2747  2002  \n",
       "2748  2001  \n",
       "\n",
       "[2749 rows x 7 columns]"
      ]
     },
     "execution_count": 25,
     "metadata": {},
     "output_type": "execute_result"
    }
   ],
   "source": [
    "df"
   ]
  },
  {
   "cell_type": "code",
   "execution_count": 51,
   "id": "80378b59-aaa0-497a-9290-c85bed2bdbd5",
   "metadata": {},
   "outputs": [
    {
     "data": {
      "text/plain": [
       "Country\n",
       "USA                   573\n",
       "Australia             317\n",
       "China                 308\n",
       "EU-Germany            278\n",
       "EU-UK                 206\n",
       "EU-Portugal            99\n",
       "EU-Spain               92\n",
       "EU-Italy               91\n",
       "Japan                  85\n",
       "EU-France              82\n",
       "Canada                 59\n",
       "New Zealand            56\n",
       "EU-Sweden              55\n",
       "EU-Norway              51\n",
       "Chile                  49\n",
       "South Korea            34\n",
       "Brazil                 29\n",
       "EU-Monaco              25\n",
       "Israel                 24\n",
       "India                  23\n",
       "EU-Belgium             23\n",
       "EU-The Netherlands     22\n",
       "EU-Greece              15\n",
       "EU-Finland             13\n",
       "Malaysia               11\n",
       "dtype: int64"
      ]
     },
     "execution_count": 51,
     "metadata": {},
     "output_type": "execute_result"
    }
   ],
   "source": [
    "a = df.groupby(\"Country\").size()\n",
    "a.sort_values(inplace=True, ascending=False)\n",
    "b = a[a > 10]\n",
    "b"
   ]
  },
  {
   "cell_type": "code",
   "execution_count": 52,
   "id": "6dca57c5-ecff-4cff-b173-37071cc95fd9",
   "metadata": {},
   "outputs": [
    {
     "data": {
      "image/png": "[encoded data removed]",
      "text/plain": [
       "<Figure size 864x360 with 1 Axes>"
      ]
     },
     "metadata": {
      "needs_background": "light"
     },
     "output_type": "display_data"
    }
   ],
   "source": [
    "ax = b.plot.bar(zorder=3, figsize=[12,5], width=0.5, xlabel=\"\")\n",
    "ax.grid(axis='y', zorder=0, color='gainsboro', linestyle='--')\n",
    "plt.xticks(rotation=30, horizontalalignment='right')\n",
    "plt.show()"
   ]
  },
  {
   "cell_type": "code",
   "execution_count": 28,
   "id": "7ab042f2-a036-4552-8c12-29eee803b846",
   "metadata": {},
   "outputs": [
    {
     "data": {
      "text/plain": [
       "0        EU-Austria\n",
       "1               USA\n",
       "2       EU-Portugal\n",
       "3          Malaysia\n",
       "4        EU-Germany\n",
       "           ...     \n",
       "2744     EU-Germany\n",
       "2745       EU-Spain\n",
       "2746            USA\n",
       "2747     EU-Germany\n",
       "2748     EU-Germany\n",
       "Name: Country, Length: 2749, dtype: object"
      ]
     },
     "execution_count": 28,
     "metadata": {},
     "output_type": "execute_result"
    }
   ],
   "source": [
    "df['Country']"
   ]
  },
  {
   "cell_type": "code",
   "execution_count": 55,
   "id": "0b69d489-6be3-4850-8ece-a89570f4ddb9",
   "metadata": {},
   "outputs": [
    {
     "data": {
      "text/plain": [
       "Country2\n",
       "EU             1094\n",
       "USA             573\n",
       "Australia       317\n",
       "China           308\n",
       "Japan            85\n",
       "Canada           59\n",
       "New Zealand      56\n",
       "Chile            49\n",
       "South Korea      34\n",
       "Brazil           29\n",
       "Israel           24\n",
       "India            23\n",
       "Malaysia         11\n",
       "dtype: int64"
      ]
     },
     "execution_count": 55,
     "metadata": {},
     "output_type": "execute_result"
    }
   ],
   "source": [
    "df['Country2'] = df['Country'].apply(lambda x: \"EU\" if str(x).startswith(\"EU-\")  else x)\n",
    "a = df.groupby(\"Country2\").size()\n",
    "a.sort_values(inplace=True, ascending=False)\n",
    "b = a[a > 10]\n",
    "b"
   ]
  },
  {
   "cell_type": "code",
   "execution_count": 56,
   "id": "fc8ac4fb-ae4c-49c8-b449-3647c369ccfe",
   "metadata": {},
   "outputs": [
    {
     "data": {
      "image/png": "[encoded data removed]",
      "text/plain": [
       "<Figure size 720x360 with 1 Axes>"
      ]
     },
     "metadata": {
      "needs_background": "light"
     },
     "output_type": "display_data"
    }
   ],
   "source": [
    "ax = b.plot.bar(zorder=3, figsize=[10,5], width=0.5, xlabel=\"\")\n",
    "ax.grid(axis='y', zorder=0, color='gainsboro', linestyle='--')\n",
    "plt.xticks(rotation=30, horizontalalignment='right')\n",
    "plt.show()"
   ]
  },
  {
   "cell_type": "code",
   "execution_count": null,
   "id": "543db25f-298b-4255-ab22-7f5ed6da4db7",
   "metadata": {},
   "outputs": [],
   "source": []
  }
 ],
 "metadata": {
  "kernelspec": {
   "display_name": "Python 3 (ipykernel)",
   "language": "python",
   "name": "python3"
  },
  "language_info": {
   "codemirror_mode": {
    "name": "ipython",
    "version": 3
   },
   "file_extension": ".py",
   "mimetype": "text/x-python",
   "name": "python",
   "nbconvert_exporter": "python",
   "pygments_lexer": "ipython3",
   "version": "3.8.3"
  }
 },
 "nbformat": 4,
 "nbformat_minor": 5
}
