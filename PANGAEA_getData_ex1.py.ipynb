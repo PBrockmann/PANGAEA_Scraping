{
 "cells": [
  {
   "cell_type": "markdown",
   "id": "ad96afc8",
   "metadata": {},
   "source": [
    "### pangaeapy\n",
    "\n",
    "This module allows to download and analyse metadata as well as data from tabular PANGAEA (https://www.pangaea.de) datasets.\n",
    "\n",
    "https://github.com/pangaea-data-publisher/pangaeapy"
   ]
  },
  {
   "cell_type": "code",
   "execution_count": 1,
   "id": "5422e74e",
   "metadata": {},
   "outputs": [],
   "source": [
    "import pangaeapy.src.pandataset as pd"
   ]
  },
  {
   "cell_type": "code",
   "execution_count": 2,
   "id": "a9348aef",
   "metadata": {},
   "outputs": [
    {
     "name": "stdout",
     "output_type": "stream",
     "text": [
      "Seawater carbonate chemistry and coral calcification\n",
      "2020\n",
      "Gómez Batista, Miguel\n",
      "Metian, Marc\n",
      "Oberhänsli, F\n",
      "Pouil, Simon\n",
      "Tambutté, Eric\n",
      "Gattuso, Jean-Pierre\n",
      "Hernández, Carlos M Alonso\n",
      "Gazeau, Frédéric\n"
     ]
    },
    {
     "name": "stderr",
     "output_type": "stream",
     "text": [
      "/home/brock/.local/lib/python3.8/site-packages/pangaeapy/src/pandataset.py:407: FutureWarning: The error_bad_lines argument has been deprecated and will be removed in a future version.\n",
      "\n",
      "\n",
      "  self.setData(addQC=addQC)\n"
     ]
    }
   ],
   "source": [
    "# You want data from https://doi.pangaea.de/10.1594/PANGAEA.912222\n",
    "\n",
    "ds= pd.PanDataSet(912222)\n",
    "print(ds.title)\n",
    "print(ds.year)\n",
    "for a in ds.authors: \n",
    "    print(a.fullname)"
   ]
  },
  {
   "cell_type": "code",
   "execution_count": 3,
   "id": "ca52f478",
   "metadata": {},
   "outputs": [
    {
     "data": {
      "text/html": [
       "<div>\n",
       "<style scoped>\n",
       "    .dataframe tbody tr th:only-of-type {\n",
       "        vertical-align: middle;\n",
       "    }\n",
       "\n",
       "    .dataframe tbody tr th {\n",
       "        vertical-align: top;\n",
       "    }\n",
       "\n",
       "    .dataframe thead th {\n",
       "        text-align: right;\n",
       "    }\n",
       "</style>\n",
       "<table border=\"1\" class=\"dataframe\">\n",
       "  <thead>\n",
       "    <tr style=\"text-align: right;\">\n",
       "      <th></th>\n",
       "      <th>Type</th>\n",
       "      <th>Species</th>\n",
       "      <th>Reg spec no</th>\n",
       "      <th>URL ref</th>\n",
       "      <th>Exp</th>\n",
       "      <th>Type_2</th>\n",
       "      <th>Type_3</th>\n",
       "      <th>Treat</th>\n",
       "      <th>ID</th>\n",
       "      <th>Date/time start</th>\n",
       "      <th>...</th>\n",
       "      <th>[HCO3]-_2</th>\n",
       "      <th>[HCO3]- std dev_2</th>\n",
       "      <th>[CO3]2-_2</th>\n",
       "      <th>[CO3]2- std dev_2</th>\n",
       "      <th>DIC_2</th>\n",
       "      <th>DIC std dev_2</th>\n",
       "      <th>Omega Arg_2</th>\n",
       "      <th>Omega Arg std dev_2</th>\n",
       "      <th>Omega Cal_2</th>\n",
       "      <th>Omega Cal std dev_2</th>\n",
       "    </tr>\n",
       "  </thead>\n",
       "  <tbody>\n",
       "    <tr>\n",
       "      <th>0</th>\n",
       "      <td>laboratory</td>\n",
       "      <td>Stylophora pistillata (coral)</td>\n",
       "      <td>206982</td>\n",
       "      <td>http://www.marinespecies.org/aphia.php?p=taxde...</td>\n",
       "      <td>IC-LIGHT-45Ca</td>\n",
       "      <td>Exp</td>\n",
       "      <td>45Ca</td>\n",
       "      <td>Ambient pH / Light</td>\n",
       "      <td>1</td>\n",
       "      <td>2017-08-23T08:15</td>\n",
       "      <td>...</td>\n",
       "      <td>1634.05</td>\n",
       "      <td>14.59</td>\n",
       "      <td>224.22</td>\n",
       "      <td>6.81</td>\n",
       "      <td>1868.31</td>\n",
       "      <td>8.30</td>\n",
       "      <td>3.36</td>\n",
       "      <td>0.19</td>\n",
       "      <td>5.08</td>\n",
       "      <td>0.28</td>\n",
       "    </tr>\n",
       "    <tr>\n",
       "      <th>1</th>\n",
       "      <td>laboratory</td>\n",
       "      <td>Stylophora pistillata (coral)</td>\n",
       "      <td>206982</td>\n",
       "      <td>http://www.marinespecies.org/aphia.php?p=taxde...</td>\n",
       "      <td>IC-LIGHT-45Ca</td>\n",
       "      <td>Exp</td>\n",
       "      <td>45Ca</td>\n",
       "      <td>Ambient pH / Light</td>\n",
       "      <td>2</td>\n",
       "      <td>2017-08-23T08:15</td>\n",
       "      <td>...</td>\n",
       "      <td>1613.23</td>\n",
       "      <td>14.42</td>\n",
       "      <td>221.79</td>\n",
       "      <td>6.74</td>\n",
       "      <td>1844.93</td>\n",
       "      <td>8.19</td>\n",
       "      <td>3.32</td>\n",
       "      <td>0.18</td>\n",
       "      <td>5.02</td>\n",
       "      <td>0.28</td>\n",
       "    </tr>\n",
       "    <tr>\n",
       "      <th>2</th>\n",
       "      <td>laboratory</td>\n",
       "      <td>Stylophora pistillata (coral)</td>\n",
       "      <td>206982</td>\n",
       "      <td>http://www.marinespecies.org/aphia.php?p=taxde...</td>\n",
       "      <td>IC-LIGHT-45Ca</td>\n",
       "      <td>Exp</td>\n",
       "      <td>45Ca</td>\n",
       "      <td>Ambient pH / Light</td>\n",
       "      <td>3</td>\n",
       "      <td>2017-08-23T08:15</td>\n",
       "      <td>...</td>\n",
       "      <td>1587.60</td>\n",
       "      <td>15.49</td>\n",
       "      <td>244.90</td>\n",
       "      <td>7.24</td>\n",
       "      <td>1841.19</td>\n",
       "      <td>8.76</td>\n",
       "      <td>3.66</td>\n",
       "      <td>0.20</td>\n",
       "      <td>5.54</td>\n",
       "      <td>0.30</td>\n",
       "    </tr>\n",
       "    <tr>\n",
       "      <th>3</th>\n",
       "      <td>laboratory</td>\n",
       "      <td>Stylophora pistillata (coral)</td>\n",
       "      <td>206982</td>\n",
       "      <td>http://www.marinespecies.org/aphia.php?p=taxde...</td>\n",
       "      <td>IC-LIGHT-45Ca</td>\n",
       "      <td>Exp</td>\n",
       "      <td>45Ca</td>\n",
       "      <td>Ambient pH / Light</td>\n",
       "      <td>4</td>\n",
       "      <td>2017-08-23T08:15</td>\n",
       "      <td>...</td>\n",
       "      <td>1647.49</td>\n",
       "      <td>13.91</td>\n",
       "      <td>210.56</td>\n",
       "      <td>6.50</td>\n",
       "      <td>1868.91</td>\n",
       "      <td>7.90</td>\n",
       "      <td>3.16</td>\n",
       "      <td>0.18</td>\n",
       "      <td>4.77</td>\n",
       "      <td>0.26</td>\n",
       "    </tr>\n",
       "    <tr>\n",
       "      <th>4</th>\n",
       "      <td>laboratory</td>\n",
       "      <td>Stylophora pistillata (coral)</td>\n",
       "      <td>206982</td>\n",
       "      <td>http://www.marinespecies.org/aphia.php?p=taxde...</td>\n",
       "      <td>IC-LIGHT-45Ca</td>\n",
       "      <td>Exp</td>\n",
       "      <td>45Ca</td>\n",
       "      <td>Ambient pH / Light</td>\n",
       "      <td>5</td>\n",
       "      <td>2017-08-23T08:15</td>\n",
       "      <td>...</td>\n",
       "      <td>1584.54</td>\n",
       "      <td>14.16</td>\n",
       "      <td>217.42</td>\n",
       "      <td>6.60</td>\n",
       "      <td>1811.70</td>\n",
       "      <td>8.05</td>\n",
       "      <td>3.26</td>\n",
       "      <td>0.18</td>\n",
       "      <td>4.92</td>\n",
       "      <td>0.27</td>\n",
       "    </tr>\n",
       "  </tbody>\n",
       "</table>\n",
       "<p>5 rows × 84 columns</p>\n",
       "</div>"
      ],
      "text/plain": [
       "         Type                        Species  Reg spec no  \\\n",
       "0  laboratory  Stylophora pistillata (coral)       206982   \n",
       "1  laboratory  Stylophora pistillata (coral)       206982   \n",
       "2  laboratory  Stylophora pistillata (coral)       206982   \n",
       "3  laboratory  Stylophora pistillata (coral)       206982   \n",
       "4  laboratory  Stylophora pistillata (coral)       206982   \n",
       "\n",
       "                                             URL ref            Exp Type_2  \\\n",
       "0  http://www.marinespecies.org/aphia.php?p=taxde...  IC-LIGHT-45Ca    Exp   \n",
       "1  http://www.marinespecies.org/aphia.php?p=taxde...  IC-LIGHT-45Ca    Exp   \n",
       "2  http://www.marinespecies.org/aphia.php?p=taxde...  IC-LIGHT-45Ca    Exp   \n",
       "3  http://www.marinespecies.org/aphia.php?p=taxde...  IC-LIGHT-45Ca    Exp   \n",
       "4  http://www.marinespecies.org/aphia.php?p=taxde...  IC-LIGHT-45Ca    Exp   \n",
       "\n",
       "  Type_3               Treat  ID   Date/time start  ... [HCO3]-_2  \\\n",
       "0   45Ca  Ambient pH / Light   1  2017-08-23T08:15  ...   1634.05   \n",
       "1   45Ca  Ambient pH / Light   2  2017-08-23T08:15  ...   1613.23   \n",
       "2   45Ca  Ambient pH / Light   3  2017-08-23T08:15  ...   1587.60   \n",
       "3   45Ca  Ambient pH / Light   4  2017-08-23T08:15  ...   1647.49   \n",
       "4   45Ca  Ambient pH / Light   5  2017-08-23T08:15  ...   1584.54   \n",
       "\n",
       "   [HCO3]- std dev_2  [CO3]2-_2  [CO3]2- std dev_2    DIC_2  DIC std dev_2  \\\n",
       "0              14.59     224.22               6.81  1868.31           8.30   \n",
       "1              14.42     221.79               6.74  1844.93           8.19   \n",
       "2              15.49     244.90               7.24  1841.19           8.76   \n",
       "3              13.91     210.56               6.50  1868.91           7.90   \n",
       "4              14.16     217.42               6.60  1811.70           8.05   \n",
       "\n",
       "   Omega Arg_2  Omega Arg std dev_2  Omega Cal_2  Omega Cal std dev_2  \n",
       "0         3.36                 0.19         5.08                 0.28  \n",
       "1         3.32                 0.18         5.02                 0.28  \n",
       "2         3.66                 0.20         5.54                 0.30  \n",
       "3         3.16                 0.18         4.77                 0.26  \n",
       "4         3.26                 0.18         4.92                 0.27  \n",
       "\n",
       "[5 rows x 84 columns]"
      ]
     },
     "execution_count": 3,
     "metadata": {},
     "output_type": "execute_result"
    }
   ],
   "source": [
    "ds.data.head()"
   ]
  },
  {
   "cell_type": "code",
   "execution_count": 4,
   "id": "2c5cef3a",
   "metadata": {},
   "outputs": [
    {
     "data": {
      "text/plain": [
       "Index(['Type', 'Species', 'Reg spec no', 'URL ref', 'Exp', 'Type_2', 'Type_3',\n",
       "       'Treat', 'ID', 'Date/time start', 'Date/time end', 'Inc dur', 'Size',\n",
       "       'Mass', 'Mass_2', 'Dry m', 'Mass_3', 'Mass_4', 'Mass_5', 'Mass_6',\n",
       "       'Sal', 'Sal_2', 'pH', 'pH_2', 'AT', 'AT std dev', 'AT_2',\n",
       "       'AT std dev_2', 'Ca2+', 'Ca2+ std dev', 'Ca2+_2', 'Ca2+ std dev_2',\n",
       "       '45Ca', '45Ca_2', '45Ca_3', '45Ca std dev', 'δ13C', 'δ13C_2',\n",
       "       'δ13C std dev', 'δ13C_3', 'δ13C_4', 'Calc rate CaCO3',\n",
       "       'Calc rate std e', 'Calc rate CaCO3_2', 'Calc rate std e_2',\n",
       "       'Calc rate CaCO3_3', 'Calc rate std e_3', 'Calc rate CaCO3_4',\n",
       "       'Calc rate std e_4', 'Temp', 'Temp std dev', 'CSC flag', 'CO2',\n",
       "       'CO2 std dev', 'fCO2water_SST_wet', 'fCO2 std dev', 'pCO2water_SST_wet',\n",
       "       'pCO2 std dev', '[HCO3]-', '[HCO3]- std dev', '[CO3]2-',\n",
       "       '[CO3]2- std dev', 'DIC', 'DIC std dev', 'Omega Arg',\n",
       "       'Omega Arg std dev', 'Omega Cal', 'Omega Cal std dev', 'CO2_2',\n",
       "       'CO2 std dev_2', 'fCO2water_SST_wet_2', 'fCO2 std dev_2',\n",
       "       'pCO2water_SST_wet_2', 'pCO2 std dev_2', '[HCO3]-_2',\n",
       "       '[HCO3]- std dev_2', '[CO3]2-_2', '[CO3]2- std dev_2', 'DIC_2',\n",
       "       'DIC std dev_2', 'Omega Arg_2', 'Omega Arg std dev_2', 'Omega Cal_2',\n",
       "       'Omega Cal std dev_2'],\n",
       "      dtype='object')"
      ]
     },
     "execution_count": 4,
     "metadata": {},
     "output_type": "execute_result"
    }
   ],
   "source": [
    "ds.data.columns"
   ]
  },
  {
   "cell_type": "code",
   "execution_count": 22,
   "id": "52dfa765",
   "metadata": {},
   "outputs": [
    {
     "data": {
      "text/plain": [
       "<AxesSubplot:xlabel='Date/time start'>"
      ]
     },
     "execution_count": 22,
     "metadata": {},
     "output_type": "execute_result"
    },
    {
     "data": {
      "image/png": "[encoded data removed]",
      "text/plain": [
       "<Figure size 1152x288 with 1 Axes>"
      ]
     },
     "metadata": {
      "needs_background": "light"
     },
     "output_type": "display_data"
    }
   ],
   "source": [
    "ds.data.plot(x='Date/time start', y='pH', c='lightblue', marker='.', figsize=[16,4])"
   ]
  },
  {
   "cell_type": "code",
   "execution_count": null,
   "id": "b07774a9",
   "metadata": {},
   "outputs": [],
   "source": []
  }
 ],
 "metadata": {
  "kernelspec": {
   "display_name": "Python 3 (ipykernel)",
   "language": "python",
   "name": "python3"
  },
  "language_info": {
   "codemirror_mode": {
    "name": "ipython",
    "version": 3
   },
   "file_extension": ".py",
   "mimetype": "text/x-python",
   "name": "python",
   "nbconvert_exporter": "python",
   "pygments_lexer": "ipython3",
   "version": "3.8.3"
  }
 },
 "nbformat": 4,
 "nbformat_minor": 5
}
