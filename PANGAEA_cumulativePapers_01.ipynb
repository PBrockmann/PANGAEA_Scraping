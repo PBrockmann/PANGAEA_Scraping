{
 "cells": [
  {
   "cell_type": "markdown",
   "id": "96dd2f9a-b9ca-49ec-a01d-b1bb38e9e499",
   "metadata": {
    "execution": {
     "iopub.execute_input": "2023-06-28T11:08:54.952235Z",
     "iopub.status.busy": "2023-06-28T11:08:54.951372Z",
     "iopub.status.idle": "2023-06-28T11:08:54.962687Z",
     "shell.execute_reply": "2023-06-28T11:08:54.960833Z",
     "shell.execute_reply.started": "2023-06-28T11:08:54.952161Z"
    },
    "tags": []
   },
   "source": [
    "Patrick BROCKMANN - LSCE (Climate and Environment Sciences Laboratory)\n",
    "\n",
    " * 2023/09/18 - updated\n",
    " * 2022/06/28 - updated\n",
    " * 2021/12/13 - initial revision\n",
    "\n",
    "<img align=\"left\" width=\"50%\" src=\"http://www.lsce.ipsl.fr/Css/img/banniere_LSCE_75.png\" >"
   ]
  },
  {
   "cell_type": "code",
   "execution_count": 3,
   "id": "a7635865-d814-49d6-a0c1-b94afcc3c710",
   "metadata": {
    "execution": {
     "iopub.execute_input": "2023-09-20T16:57:41.673291Z",
     "iopub.status.busy": "2023-09-20T16:57:41.672980Z",
     "iopub.status.idle": "2023-09-20T16:57:41.677593Z",
     "shell.execute_reply": "2023-09-20T16:57:41.676703Z",
     "shell.execute_reply.started": "2023-09-20T16:57:41.673266Z"
    },
    "tags": []
   },
   "outputs": [],
   "source": [
    "import pandas as pd\n",
    "import numpy as np\n",
    "import matplotlib.pyplot as plt"
   ]
  },
  {
   "cell_type": "code",
   "execution_count": 4,
   "id": "0620a4c9-7d11-4a6b-9bd5-ce7b382ba94c",
   "metadata": {
    "execution": {
     "iopub.execute_input": "2023-09-20T16:57:42.213951Z",
     "iopub.status.busy": "2023-09-20T16:57:42.212161Z",
     "iopub.status.idle": "2023-09-20T16:57:42.788786Z",
     "shell.execute_reply": "2023-09-20T16:57:42.788120Z",
     "shell.execute_reply.started": "2023-09-20T16:57:42.213888Z"
    },
    "tags": []
   },
   "outputs": [
    {
     "data": {
      "text/html": [
       "<div>\n",
       "<style scoped>\n",
       "    .dataframe tbody tr th:only-of-type {\n",
       "        vertical-align: middle;\n",
       "    }\n",
       "\n",
       "    .dataframe tbody tr th {\n",
       "        vertical-align: top;\n",
       "    }\n",
       "\n",
       "    .dataframe thead th {\n",
       "        text-align: right;\n",
       "    }\n",
       "</style>\n",
       "<table border=\"1\" class=\"dataframe\">\n",
       "  <thead>\n",
       "    <tr style=\"text-align: right;\">\n",
       "      <th></th>\n",
       "      <th>Reference</th>\n",
       "      <th>DOI</th>\n",
       "      <th>DOI_PANGAEA</th>\n",
       "      <th>Included/Not included</th>\n",
       "      <th>Reason for non inclusion</th>\n",
       "      <th>Country</th>\n",
       "      <th>Year</th>\n",
       "    </tr>\n",
       "  </thead>\n",
       "  <tbody>\n",
       "    <tr>\n",
       "      <th>0</th>\n",
       "      <td>Adeleke, B., Robertson-Andersson, D., &amp; Moodle...</td>\n",
       "      <td>doi:10.1016/j.heliyon.2020.e04744</td>\n",
       "      <td>NaN</td>\n",
       "      <td>Not included</td>\n",
       "      <td>&lt; 2 carbonate chemistry parameters</td>\n",
       "      <td>South Africa</td>\n",
       "      <td>2020</td>\n",
       "    </tr>\n",
       "    <tr>\n",
       "      <th>1</th>\n",
       "      <td>Ahnelt, H., Schade, F. M., &amp; Wegner, M., 2016....</td>\n",
       "      <td>doi:10.1111/jfd.12417</td>\n",
       "      <td>NaN</td>\n",
       "      <td>Not included</td>\n",
       "      <td>&lt; 2 carbonate chemistry parameters</td>\n",
       "      <td>EU-Austria</td>\n",
       "      <td>2016</td>\n",
       "    </tr>\n",
       "    <tr>\n",
       "      <th>2</th>\n",
       "      <td>Ahrendt, S., Mobberley, J., Visscher, P., Koss...</td>\n",
       "      <td>doi:10.3390/min4010145</td>\n",
       "      <td>NaN</td>\n",
       "      <td>Not included</td>\n",
       "      <td>&lt; 2 carbonate chemistry parameters</td>\n",
       "      <td>USA</td>\n",
       "      <td>2014</td>\n",
       "    </tr>\n",
       "    <tr>\n",
       "      <th>3</th>\n",
       "      <td>Aires, T., Serebryakova, A., Viard, F., Serrão...</td>\n",
       "      <td>doi:10.7717/peerj.4377</td>\n",
       "      <td>NaN</td>\n",
       "      <td>Not included</td>\n",
       "      <td>&lt; 2 carbonate chemistry parameters</td>\n",
       "      <td>EU-Portugal</td>\n",
       "      <td>2018</td>\n",
       "    </tr>\n",
       "    <tr>\n",
       "      <th>4</th>\n",
       "      <td>Al-Awlaqi, N. A. N., Shazili, N. A. M., &amp; Yuso...</td>\n",
       "      <td>doi:10.17576/mjas-2019-2306-10</td>\n",
       "      <td>NaN</td>\n",
       "      <td>Not included</td>\n",
       "      <td>&lt; 2 carbonate chemistry parameters</td>\n",
       "      <td>Malaysia</td>\n",
       "      <td>2019</td>\n",
       "    </tr>\n",
       "    <tr>\n",
       "      <th>...</th>\n",
       "      <td>...</td>\n",
       "      <td>...</td>\n",
       "      <td>...</td>\n",
       "      <td>...</td>\n",
       "      <td>...</td>\n",
       "      <td>...</td>\n",
       "      <td>...</td>\n",
       "    </tr>\n",
       "    <tr>\n",
       "      <th>3651</th>\n",
       "      <td>Zittier, Z. M. C., Hirse, T., &amp; Pörtner, H.-O....</td>\n",
       "      <td>doi:10.1007/s00227-012-2073-8</td>\n",
       "      <td>10.1594/PANGAEA.821402</td>\n",
       "      <td>Included</td>\n",
       "      <td>NaN</td>\n",
       "      <td>EU-Germany</td>\n",
       "      <td>2013</td>\n",
       "    </tr>\n",
       "    <tr>\n",
       "      <th>3652</th>\n",
       "      <td>Ziveri, P., Passaro, M., Incarbona, A., Milazz...</td>\n",
       "      <td>doi:10.1086/BBLv226n3p282</td>\n",
       "      <td>10.1594/PANGAEA.838830</td>\n",
       "      <td>Included</td>\n",
       "      <td>NaN</td>\n",
       "      <td>EU-Spain</td>\n",
       "      <td>2014</td>\n",
       "    </tr>\n",
       "    <tr>\n",
       "      <th>3653</th>\n",
       "      <td>Zlatkin, R. L., &amp; Heuer, R. M., 2019. Ocean ac...</td>\n",
       "      <td>doi:10.1098/rsos.191041</td>\n",
       "      <td>10.1594/PANGAEA.912287</td>\n",
       "      <td>Included</td>\n",
       "      <td>NaN</td>\n",
       "      <td>USA</td>\n",
       "      <td>2019</td>\n",
       "    </tr>\n",
       "    <tr>\n",
       "      <th>3654</th>\n",
       "      <td>Zondervan, I., Rost, B., &amp; Riebesell, U., 2002...</td>\n",
       "      <td>doi:10.1016/S0022-0981(02)00037-0</td>\n",
       "      <td>10.1594/PANGAEA.726883</td>\n",
       "      <td>Included</td>\n",
       "      <td>NaN</td>\n",
       "      <td>EU-Germany</td>\n",
       "      <td>2002</td>\n",
       "    </tr>\n",
       "    <tr>\n",
       "      <th>3655</th>\n",
       "      <td>Zondervan, I., Zeebe, R. E., Rost, B., &amp; Riebe...</td>\n",
       "      <td>doi:10.1029/2000GB001321</td>\n",
       "      <td>10.1594/PANGAEA.726883</td>\n",
       "      <td>Included</td>\n",
       "      <td>NaN</td>\n",
       "      <td>EU-Germany</td>\n",
       "      <td>2001</td>\n",
       "    </tr>\n",
       "  </tbody>\n",
       "</table>\n",
       "<p>3656 rows × 7 columns</p>\n",
       "</div>"
      ],
      "text/plain": [
       "                                              Reference  \\\n",
       "0     Adeleke, B., Robertson-Andersson, D., & Moodle...   \n",
       "1     Ahnelt, H., Schade, F. M., & Wegner, M., 2016....   \n",
       "2     Ahrendt, S., Mobberley, J., Visscher, P., Koss...   \n",
       "3     Aires, T., Serebryakova, A., Viard, F., Serrão...   \n",
       "4     Al-Awlaqi, N. A. N., Shazili, N. A. M., & Yuso...   \n",
       "...                                                 ...   \n",
       "3651  Zittier, Z. M. C., Hirse, T., & Pörtner, H.-O....   \n",
       "3652  Ziveri, P., Passaro, M., Incarbona, A., Milazz...   \n",
       "3653  Zlatkin, R. L., & Heuer, R. M., 2019. Ocean ac...   \n",
       "3654  Zondervan, I., Rost, B., & Riebesell, U., 2002...   \n",
       "3655  Zondervan, I., Zeebe, R. E., Rost, B., & Riebe...   \n",
       "\n",
       "                                    DOI             DOI_PANGAEA  \\\n",
       "0     doi:10.1016/j.heliyon.2020.e04744                     NaN   \n",
       "1                 doi:10.1111/jfd.12417                     NaN   \n",
       "2                doi:10.3390/min4010145                     NaN   \n",
       "3                doi:10.7717/peerj.4377                     NaN   \n",
       "4        doi:10.17576/mjas-2019-2306-10                     NaN   \n",
       "...                                 ...                     ...   \n",
       "3651      doi:10.1007/s00227-012-2073-8  10.1594/PANGAEA.821402   \n",
       "3652          doi:10.1086/BBLv226n3p282  10.1594/PANGAEA.838830   \n",
       "3653            doi:10.1098/rsos.191041  10.1594/PANGAEA.912287   \n",
       "3654  doi:10.1016/S0022-0981(02)00037-0  10.1594/PANGAEA.726883   \n",
       "3655           doi:10.1029/2000GB001321  10.1594/PANGAEA.726883   \n",
       "\n",
       "     Included/Not included            Reason for non inclusion       Country  \\\n",
       "0             Not included  < 2 carbonate chemistry parameters  South Africa   \n",
       "1             Not included  < 2 carbonate chemistry parameters    EU-Austria   \n",
       "2             Not included  < 2 carbonate chemistry parameters           USA   \n",
       "3             Not included  < 2 carbonate chemistry parameters   EU-Portugal   \n",
       "4             Not included  < 2 carbonate chemistry parameters      Malaysia   \n",
       "...                    ...                                 ...           ...   \n",
       "3651              Included                                 NaN    EU-Germany   \n",
       "3652              Included                                 NaN      EU-Spain   \n",
       "3653              Included                                 NaN           USA   \n",
       "3654              Included                                 NaN    EU-Germany   \n",
       "3655              Included                                 NaN    EU-Germany   \n",
       "\n",
       "      Year  \n",
       "0     2020  \n",
       "1     2016  \n",
       "2     2014  \n",
       "3     2018  \n",
       "4     2019  \n",
       "...    ...  \n",
       "3651  2013  \n",
       "3652  2014  \n",
       "3653  2019  \n",
       "3654  2002  \n",
       "3655  2001  \n",
       "\n",
       "[3656 rows x 7 columns]"
      ]
     },
     "execution_count": 4,
     "metadata": {},
     "output_type": "execute_result"
    }
   ],
   "source": [
    "df = pd.read_csv(\"https://oa-icc.ipsl.fr/checking/OAICC_20230919.csv\")\n",
    "df"
   ]
  },
  {
   "cell_type": "code",
   "execution_count": 8,
   "id": "24b1ab1a-beff-4da5-a003-65dfc013e783",
   "metadata": {
    "execution": {
     "iopub.execute_input": "2023-09-20T16:59:05.029216Z",
     "iopub.status.busy": "2023-09-20T16:59:05.028690Z",
     "iopub.status.idle": "2023-09-20T16:59:05.037799Z",
     "shell.execute_reply": "2023-09-20T16:59:05.036699Z",
     "shell.execute_reply.started": "2023-09-20T16:59:05.029172Z"
    },
    "tags": []
   },
   "outputs": [],
   "source": [
    "df.dropna(subset='Country', inplace=True)"
   ]
  },
  {
   "cell_type": "code",
   "execution_count": 9,
   "id": "c4eac4ec-0855-46b2-8ccb-12fafa6d7283",
   "metadata": {
    "execution": {
     "iopub.execute_input": "2023-09-20T16:59:06.041747Z",
     "iopub.status.busy": "2023-09-20T16:59:06.041302Z",
     "iopub.status.idle": "2023-09-20T16:59:06.050327Z",
     "shell.execute_reply": "2023-09-20T16:59:06.049187Z",
     "shell.execute_reply.started": "2023-09-20T16:59:06.041709Z"
    },
    "tags": []
   },
   "outputs": [
    {
     "data": {
      "text/plain": [
       "array(['2020', '2016', '2014', '2018', '2019', '2012', '2013', '2011',\n",
       "       '2022', '2017', '2015', '2021', '2009', '2023', '1999', '2010',\n",
       "       '2005', '2008', '2007', '1995', '2002', '2001', '2004', '2006',\n",
       "       '1993', '2000', '1997', '2003', '1991', '1994', '1998', '1996',\n",
       "       '1967'], dtype=object)"
      ]
     },
     "execution_count": 9,
     "metadata": {},
     "output_type": "execute_result"
    }
   ],
   "source": [
    "df['Year'].unique()"
   ]
  },
  {
   "cell_type": "code",
   "execution_count": 10,
   "id": "06b86e39-4666-4be1-9196-7296f2a23f29",
   "metadata": {
    "execution": {
     "iopub.execute_input": "2023-09-20T16:59:06.978153Z",
     "iopub.status.busy": "2023-09-20T16:59:06.976722Z",
     "iopub.status.idle": "2023-09-20T16:59:06.988411Z",
     "shell.execute_reply": "2023-09-20T16:59:06.987400Z",
     "shell.execute_reply.started": "2023-09-20T16:59:06.978085Z"
    },
    "tags": []
   },
   "outputs": [
    {
     "data": {
      "text/plain": [
       "array(['2020', '2016', '2014', '2018', '2019', '2012', '2013', '2011',\n",
       "       '2022', '2017', '2015', '2021', '2009', '2023', '1999', '2010',\n",
       "       '2005', '2008', '2007', '1995', '2002', '2001', '2004', '2006',\n",
       "       '1993', '2000', '1997', '2003', '1991', '1994', '1998', '1996',\n",
       "       '1967'], dtype=object)"
      ]
     },
     "execution_count": 10,
     "metadata": {},
     "output_type": "execute_result"
    }
   ],
   "source": [
    "df['Year'].replace('in press', '2022', inplace=True)\n",
    "df['Year'].unique()"
   ]
  },
  {
   "cell_type": "code",
   "execution_count": 11,
   "id": "b34c7328-31ae-4006-8a25-a88a520c2e07",
   "metadata": {
    "execution": {
     "iopub.execute_input": "2023-09-20T16:59:07.564504Z",
     "iopub.status.busy": "2023-09-20T16:59:07.563931Z",
     "iopub.status.idle": "2023-09-20T16:59:07.572591Z",
     "shell.execute_reply": "2023-09-20T16:59:07.570976Z",
     "shell.execute_reply.started": "2023-09-20T16:59:07.564454Z"
    },
    "tags": []
   },
   "outputs": [],
   "source": [
    "df['Year'] = df['Year'].astype(int)"
   ]
  },
  {
   "cell_type": "code",
   "execution_count": 12,
   "id": "2bb45fe9-4713-47c1-9870-d48e8465ff87",
   "metadata": {
    "execution": {
     "iopub.execute_input": "2023-09-20T16:59:10.315966Z",
     "iopub.status.busy": "2023-09-20T16:59:10.315567Z",
     "iopub.status.idle": "2023-09-20T16:59:10.320731Z",
     "shell.execute_reply": "2023-09-20T16:59:10.319508Z",
     "shell.execute_reply.started": "2023-09-20T16:59:10.315936Z"
    },
    "tags": []
   },
   "outputs": [],
   "source": [
    "#df = df[df['Year'] < 2022]"
   ]
  },
  {
   "cell_type": "code",
   "execution_count": 13,
   "id": "fe6f41f3-c013-4b7b-bc14-3b1c7fcaddb1",
   "metadata": {
    "execution": {
     "iopub.execute_input": "2023-09-20T16:59:11.306582Z",
     "iopub.status.busy": "2023-09-20T16:59:11.305996Z",
     "iopub.status.idle": "2023-09-20T16:59:11.316615Z",
     "shell.execute_reply": "2023-09-20T16:59:11.315395Z",
     "shell.execute_reply.started": "2023-09-20T16:59:11.306532Z"
    },
    "tags": []
   },
   "outputs": [
    {
     "data": {
      "text/plain": [
       "array(['< 2 carbonate chemistry parameters', 'No answer from authors',\n",
       "       'Data lost', nan], dtype=object)"
      ]
     },
     "execution_count": 13,
     "metadata": {},
     "output_type": "execute_result"
    }
   ],
   "source": [
    "df['Reason for non inclusion'].unique()"
   ]
  },
  {
   "cell_type": "code",
   "execution_count": 14,
   "id": "73232ac4-46cc-4482-bed0-e9f7ed9e0be9",
   "metadata": {
    "execution": {
     "iopub.execute_input": "2023-09-20T16:59:12.546666Z",
     "iopub.status.busy": "2023-09-20T16:59:12.545667Z",
     "iopub.status.idle": "2023-09-20T16:59:12.569089Z",
     "shell.execute_reply": "2023-09-20T16:59:12.567307Z",
     "shell.execute_reply.started": "2023-09-20T16:59:12.546576Z"
    },
    "tags": []
   },
   "outputs": [],
   "source": [
    "a = df[df['Included/Not included'] == 'Included']\n",
    "b = df[df['Reason for non inclusion'] == 'No answer from authors']\n",
    "c = df[df['Reason for non inclusion'] == '< 2 carbonate chemistry parameters']\n",
    "d = df[df['Reason for non inclusion'] == 'Data lost']"
   ]
  },
  {
   "cell_type": "code",
   "execution_count": 15,
   "id": "19d3f5ef-2a81-4cf3-80dd-b9781db1b374",
   "metadata": {
    "execution": {
     "iopub.execute_input": "2023-09-20T16:59:14.167103Z",
     "iopub.status.busy": "2023-09-20T16:59:14.166097Z",
     "iopub.status.idle": "2023-09-20T16:59:14.188663Z",
     "shell.execute_reply": "2023-09-20T16:59:14.187536Z",
     "shell.execute_reply.started": "2023-09-20T16:59:14.167015Z"
    },
    "tags": []
   },
   "outputs": [
    {
     "data": {
      "text/plain": [
       "Year\n",
       "1991     1\n",
       "1993     2\n",
       "1997     3\n",
       "1999     6\n",
       "2001     8\n",
       "2003    10\n",
       "2006    12\n",
       "2012    14\n",
       "2017    15\n",
       "2018    16\n",
       "dtype: int64"
      ]
     },
     "execution_count": 15,
     "metadata": {},
     "output_type": "execute_result"
    }
   ],
   "source": [
    "a1 = a.groupby('Year').size().cumsum()\n",
    "b1 = b.groupby('Year').size().cumsum()\n",
    "c1 = c.groupby('Year').size().cumsum()\n",
    "d1 = d.groupby('Year').size().cumsum()\n",
    "d1"
   ]
  },
  {
   "cell_type": "code",
   "execution_count": 16,
   "id": "c48bacfd-cb38-4ccc-9b7c-b2092f444e76",
   "metadata": {
    "execution": {
     "iopub.execute_input": "2023-09-20T16:59:16.124691Z",
     "iopub.status.busy": "2023-09-20T16:59:16.123809Z",
     "iopub.status.idle": "2023-09-20T16:59:16.394746Z",
     "shell.execute_reply": "2023-09-20T16:59:16.394060Z",
     "shell.execute_reply.started": "2023-09-20T16:59:16.124613Z"
    },
    "tags": []
   },
   "outputs": [
    {
     "data": {
      "image/png": "[encoded data removed]",
      "text/plain": [
       "<Figure size 1000x600 with 1 Axes>"
      ]
     },
     "metadata": {},
     "output_type": "display_data"
    }
   ],
   "source": [
    "fig, ax = plt.subplots(figsize=[10,6])\n",
    "\n",
    "scatterSize = 20\n",
    "\n",
    "#==============================\n",
    "ax.plot(a1, label=\"Archived\")\n",
    "ax.scatter(x=a1.index, y=a1, marker='o', alpha=0.7, s=scatterSize)\n",
    "#==============================\n",
    "ax.plot(b1, label=\"Not obtained\")\n",
    "ax.scatter(x=b1.index, y=b1, marker='o', alpha=0.7, s=scatterSize)\n",
    "#==============================\n",
    "ax.plot(c1, label=\"Incomplete\")\n",
    "ax.scatter(x=c1.index, y=c1, marker='o', alpha=0.7, s=scatterSize)\n",
    "#==============================\n",
    "ax.plot(d1, label=\"Data lost\")\n",
    "ax.scatter(x=d1.index, y=d1, marker='o', alpha=0.7, s=scatterSize)\n",
    "\n",
    "#==============================\n",
    "for l in ax.lines:\n",
    "    x,y = l.get_data()\n",
    "    ax.annotate(y[-1], \n",
    "                xy=(2022, y[-1]),\n",
    "                ha='left', va='center',\n",
    "                xytext=(5, 0), textcoords='offset points', fontsize=10)\n",
    "\n",
    "#==============================\n",
    "ax.grid(axis='both', zorder=0, color='gainsboro', linestyle='--')\n",
    "ax.legend()\n",
    "#ax.set_xlim(1965, 2025)\n",
    "ax.xaxis.set_ticks(np.arange(1965, 2025, 5))\n",
    "\n",
    "ax.spines['right'].set_visible(False)\n",
    "ax.spines['top'].set_visible(False)\n",
    "\n",
    "plt.show()"
   ]
  },
  {
   "cell_type": "code",
   "execution_count": null,
   "id": "8ae49bfe-cac5-4096-a0f2-41b6b158f203",
   "metadata": {},
   "outputs": [],
   "source": []
  }
 ],
 "metadata": {
  "kernelspec": {
   "display_name": "Python 3 (ipykernel)",
   "language": "python",
   "name": "python3"
  },
  "language_info": {
   "codemirror_mode": {
    "name": "ipython",
    "version": 3
   },
   "file_extension": ".py",
   "mimetype": "text/x-python",
   "name": "python",
   "nbconvert_exporter": "python",
   "pygments_lexer": "ipython3",
   "version": "3.10.11"
  }
 },
 "nbformat": 4,
 "nbformat_minor": 5
}
