{
 "cells": [
  {
   "cell_type": "code",
   "execution_count": 3,
   "id": "5a0e135e-893e-48f7-9e6a-919225b2a3c9",
   "metadata": {
    "execution": {
     "iopub.execute_input": "2021-12-09T15:00:57.783208Z",
     "iopub.status.busy": "2021-12-09T15:00:57.782645Z",
     "iopub.status.idle": "2021-12-09T15:00:58.795954Z",
     "shell.execute_reply": "2021-12-09T15:00:58.794911Z",
     "shell.execute_reply.started": "2021-12-09T15:00:57.783165Z"
    },
    "tags": []
   },
   "outputs": [],
   "source": [
    "import pandas as pd\n",
    "import numpy as np\n",
    "import matplotlib.pyplot as plt"
   ]
  },
  {
   "cell_type": "code",
   "execution_count": 4,
   "id": "0620a4c9-7d11-4a6b-9bd5-ce7b382ba94c",
   "metadata": {
    "execution": {
     "iopub.execute_input": "2021-12-09T15:00:59.519425Z",
     "iopub.status.busy": "2021-12-09T15:00:59.519002Z",
     "iopub.status.idle": "2021-12-09T15:00:59.656342Z",
     "shell.execute_reply": "2021-12-09T15:00:59.655452Z",
     "shell.execute_reply.started": "2021-12-09T15:00:59.519384Z"
    },
    "tags": []
   },
   "outputs": [
    {
     "data": {
      "text/html": [
       "<div>\n",
       "<style scoped>\n",
       "    .dataframe tbody tr th:only-of-type {\n",
       "        vertical-align: middle;\n",
       "    }\n",
       "\n",
       "    .dataframe tbody tr th {\n",
       "        vertical-align: top;\n",
       "    }\n",
       "\n",
       "    .dataframe thead th {\n",
       "        text-align: right;\n",
       "    }\n",
       "</style>\n",
       "<table border=\"1\" class=\"dataframe\">\n",
       "  <thead>\n",
       "    <tr style=\"text-align: right;\">\n",
       "      <th></th>\n",
       "      <th>Reference</th>\n",
       "      <th>DOI</th>\n",
       "      <th>DOI_PANGAEA</th>\n",
       "      <th>Included/Not included</th>\n",
       "      <th>Reason for non inclusion</th>\n",
       "      <th>Country</th>\n",
       "      <th>Year</th>\n",
       "    </tr>\n",
       "  </thead>\n",
       "  <tbody>\n",
       "    <tr>\n",
       "      <th>0</th>\n",
       "      <td>Ahnelt, H., Schade, F. M., &amp; Wegner, M., 2016....</td>\n",
       "      <td>doi:10.1111/jfd.12417</td>\n",
       "      <td>NaN</td>\n",
       "      <td>Not included</td>\n",
       "      <td>&lt; 2 carbonate chemistry parameters</td>\n",
       "      <td>EU-Austria</td>\n",
       "      <td>2016</td>\n",
       "    </tr>\n",
       "    <tr>\n",
       "      <th>1</th>\n",
       "      <td>Ahrendt, S., Mobberley, J., Visscher, P., Koss...</td>\n",
       "      <td>doi:10.3390/min4010145</td>\n",
       "      <td>NaN</td>\n",
       "      <td>Not included</td>\n",
       "      <td>&lt; 2 carbonate chemistry parameters</td>\n",
       "      <td>USA</td>\n",
       "      <td>2014</td>\n",
       "    </tr>\n",
       "    <tr>\n",
       "      <th>2</th>\n",
       "      <td>Aires, T., Serebryakova, A., Viard, F., Serrão...</td>\n",
       "      <td>doi:10.7717/peerj.4377</td>\n",
       "      <td>NaN</td>\n",
       "      <td>Not included</td>\n",
       "      <td>&lt; 2 carbonate chemistry parameters</td>\n",
       "      <td>EU-Portugal</td>\n",
       "      <td>2018</td>\n",
       "    </tr>\n",
       "    <tr>\n",
       "      <th>3</th>\n",
       "      <td>Al-Awlaqi, N. A. N., Shazili, N. A. M., &amp; Yuso...</td>\n",
       "      <td>doi:10.17576/mjas-2019-2306-10</td>\n",
       "      <td>NaN</td>\n",
       "      <td>Not included</td>\n",
       "      <td>&lt; 2 carbonate chemistry parameters</td>\n",
       "      <td>Malaysia</td>\n",
       "      <td>2019</td>\n",
       "    </tr>\n",
       "    <tr>\n",
       "      <th>4</th>\n",
       "      <td>Al-Janabi, B., Kruse, I., Graiff, A., Winde, V...</td>\n",
       "      <td>doi:10.1371/journal.pone.0152948</td>\n",
       "      <td>NaN</td>\n",
       "      <td>Not included</td>\n",
       "      <td>&lt; 2 carbonate chemistry parameters</td>\n",
       "      <td>EU-Germany</td>\n",
       "      <td>2016</td>\n",
       "    </tr>\n",
       "    <tr>\n",
       "      <th>...</th>\n",
       "      <td>...</td>\n",
       "      <td>...</td>\n",
       "      <td>...</td>\n",
       "      <td>...</td>\n",
       "      <td>...</td>\n",
       "      <td>...</td>\n",
       "      <td>...</td>\n",
       "    </tr>\n",
       "    <tr>\n",
       "      <th>2818</th>\n",
       "      <td>Zittier, Z. M. C., Hirse, T., &amp; Pörtner, H.-O....</td>\n",
       "      <td>doi:10.1007/s00227-012-2073-8</td>\n",
       "      <td>10.1594/PANGAEA.821402</td>\n",
       "      <td>Included</td>\n",
       "      <td>NaN</td>\n",
       "      <td>EU-Germany</td>\n",
       "      <td>2013</td>\n",
       "    </tr>\n",
       "    <tr>\n",
       "      <th>2819</th>\n",
       "      <td>Ziveri, P., Passaro, M., Incarbona, A., Milazz...</td>\n",
       "      <td>doi:10.1086/BBLv226n3p282</td>\n",
       "      <td>10.1594/PANGAEA.838830</td>\n",
       "      <td>Included</td>\n",
       "      <td>NaN</td>\n",
       "      <td>EU-Spain</td>\n",
       "      <td>2014</td>\n",
       "    </tr>\n",
       "    <tr>\n",
       "      <th>2820</th>\n",
       "      <td>Zlatkin, R. L., &amp; Heuer, R. M., 2019. Ocean ac...</td>\n",
       "      <td>doi:10.1098/rsos.191041</td>\n",
       "      <td>10.1594/PANGAEA.912287</td>\n",
       "      <td>Included</td>\n",
       "      <td>NaN</td>\n",
       "      <td>USA</td>\n",
       "      <td>2019</td>\n",
       "    </tr>\n",
       "    <tr>\n",
       "      <th>2821</th>\n",
       "      <td>Zondervan, I., Rost, B., &amp; Riebesell, U., 2002...</td>\n",
       "      <td>doi:10.1016/S0022-0981(02)00037-0</td>\n",
       "      <td>10.1594/PANGAEA.726883</td>\n",
       "      <td>Included</td>\n",
       "      <td>NaN</td>\n",
       "      <td>EU-Germany</td>\n",
       "      <td>2002</td>\n",
       "    </tr>\n",
       "    <tr>\n",
       "      <th>2822</th>\n",
       "      <td>Zondervan, I., Zeebe, R. E., Rost, B., &amp; Riebe...</td>\n",
       "      <td>doi:10.1029/2000GB001321</td>\n",
       "      <td>10.1594/PANGAEA.726883</td>\n",
       "      <td>Included</td>\n",
       "      <td>NaN</td>\n",
       "      <td>EU-Germany</td>\n",
       "      <td>2001</td>\n",
       "    </tr>\n",
       "  </tbody>\n",
       "</table>\n",
       "<p>2823 rows × 7 columns</p>\n",
       "</div>"
      ],
      "text/plain": [
       "                                              Reference  \\\n",
       "0     Ahnelt, H., Schade, F. M., & Wegner, M., 2016....   \n",
       "1     Ahrendt, S., Mobberley, J., Visscher, P., Koss...   \n",
       "2     Aires, T., Serebryakova, A., Viard, F., Serrão...   \n",
       "3     Al-Awlaqi, N. A. N., Shazili, N. A. M., & Yuso...   \n",
       "4     Al-Janabi, B., Kruse, I., Graiff, A., Winde, V...   \n",
       "...                                                 ...   \n",
       "2818  Zittier, Z. M. C., Hirse, T., & Pörtner, H.-O....   \n",
       "2819  Ziveri, P., Passaro, M., Incarbona, A., Milazz...   \n",
       "2820  Zlatkin, R. L., & Heuer, R. M., 2019. Ocean ac...   \n",
       "2821  Zondervan, I., Rost, B., & Riebesell, U., 2002...   \n",
       "2822  Zondervan, I., Zeebe, R. E., Rost, B., & Riebe...   \n",
       "\n",
       "                                    DOI             DOI_PANGAEA  \\\n",
       "0                 doi:10.1111/jfd.12417                     NaN   \n",
       "1                doi:10.3390/min4010145                     NaN   \n",
       "2                doi:10.7717/peerj.4377                     NaN   \n",
       "3        doi:10.17576/mjas-2019-2306-10                     NaN   \n",
       "4      doi:10.1371/journal.pone.0152948                     NaN   \n",
       "...                                 ...                     ...   \n",
       "2818      doi:10.1007/s00227-012-2073-8  10.1594/PANGAEA.821402   \n",
       "2819          doi:10.1086/BBLv226n3p282  10.1594/PANGAEA.838830   \n",
       "2820            doi:10.1098/rsos.191041  10.1594/PANGAEA.912287   \n",
       "2821  doi:10.1016/S0022-0981(02)00037-0  10.1594/PANGAEA.726883   \n",
       "2822           doi:10.1029/2000GB001321  10.1594/PANGAEA.726883   \n",
       "\n",
       "     Included/Not included            Reason for non inclusion      Country  \\\n",
       "0             Not included  < 2 carbonate chemistry parameters   EU-Austria   \n",
       "1             Not included  < 2 carbonate chemistry parameters          USA   \n",
       "2             Not included  < 2 carbonate chemistry parameters  EU-Portugal   \n",
       "3             Not included  < 2 carbonate chemistry parameters     Malaysia   \n",
       "4             Not included  < 2 carbonate chemistry parameters   EU-Germany   \n",
       "...                    ...                                 ...          ...   \n",
       "2818              Included                                 NaN   EU-Germany   \n",
       "2819              Included                                 NaN     EU-Spain   \n",
       "2820              Included                                 NaN          USA   \n",
       "2821              Included                                 NaN   EU-Germany   \n",
       "2822              Included                                 NaN   EU-Germany   \n",
       "\n",
       "      Year  \n",
       "0     2016  \n",
       "1     2014  \n",
       "2     2018  \n",
       "3     2019  \n",
       "4     2016  \n",
       "...    ...  \n",
       "2818  2013  \n",
       "2819  2014  \n",
       "2820  2019  \n",
       "2821  2002  \n",
       "2822  2001  \n",
       "\n",
       "[2823 rows x 7 columns]"
      ]
     },
     "execution_count": 4,
     "metadata": {},
     "output_type": "execute_result"
    }
   ],
   "source": [
    "df = pd.read_csv(\"http://oa-icc.ipsl.fr/checking/OAICC_20211203.csv\")\n",
    "df"
   ]
  },
  {
   "cell_type": "code",
   "execution_count": 5,
   "id": "c4eac4ec-0855-46b2-8ccb-12fafa6d7283",
   "metadata": {
    "execution": {
     "iopub.execute_input": "2021-12-09T15:01:00.321291Z",
     "iopub.status.busy": "2021-12-09T15:01:00.320640Z",
     "iopub.status.idle": "2021-12-09T15:01:00.330720Z",
     "shell.execute_reply": "2021-12-09T15:01:00.329645Z",
     "shell.execute_reply.started": "2021-12-09T15:01:00.321250Z"
    },
    "tags": []
   },
   "outputs": [
    {
     "data": {
      "text/plain": [
       "array(['2016', '2014', '2018', '2019', '2012', '2020', '2013', '2011',\n",
       "       '2017', '2015', '2021', '2009', '1999', '2010', '2005', '2008',\n",
       "       'in press', '2007', '1995', '2002', '2001', '2022', '2004', '2006',\n",
       "       '1993', '2000', '1997', '2003', '1991', '1994', '1998', '1996',\n",
       "       '1967'], dtype=object)"
      ]
     },
     "execution_count": 5,
     "metadata": {},
     "output_type": "execute_result"
    }
   ],
   "source": [
    "df['Year'].unique()"
   ]
  },
  {
   "cell_type": "code",
   "execution_count": 6,
   "id": "06b86e39-4666-4be1-9196-7296f2a23f29",
   "metadata": {
    "execution": {
     "iopub.execute_input": "2021-12-09T15:01:01.041465Z",
     "iopub.status.busy": "2021-12-09T15:01:01.040995Z",
     "iopub.status.idle": "2021-12-09T15:01:01.053396Z",
     "shell.execute_reply": "2021-12-09T15:01:01.052538Z",
     "shell.execute_reply.started": "2021-12-09T15:01:01.041426Z"
    },
    "tags": []
   },
   "outputs": [
    {
     "data": {
      "text/plain": [
       "array(['2016', '2014', '2018', '2019', '2012', '2020', '2013', '2011',\n",
       "       '2017', '2015', '2021', '2009', '1999', '2010', '2005', '2008',\n",
       "       '2007', '1995', '2002', '2001', '2022', '2004', '2006', '1993',\n",
       "       '2000', '1997', '2003', '1991', '1994', '1998', '1996', '1967'],\n",
       "      dtype=object)"
      ]
     },
     "execution_count": 6,
     "metadata": {},
     "output_type": "execute_result"
    }
   ],
   "source": [
    "df = df[df['Year'] != 'in press']\n",
    "df['Year'].unique()"
   ]
  },
  {
   "cell_type": "code",
   "execution_count": 13,
   "id": "b34c7328-31ae-4006-8a25-a88a520c2e07",
   "metadata": {
    "execution": {
     "iopub.execute_input": "2021-12-09T15:01:09.655912Z",
     "iopub.status.busy": "2021-12-09T15:01:09.655269Z",
     "iopub.status.idle": "2021-12-09T15:01:09.663314Z",
     "shell.execute_reply": "2021-12-09T15:01:09.662220Z",
     "shell.execute_reply.started": "2021-12-09T15:01:09.655872Z"
    },
    "tags": []
   },
   "outputs": [],
   "source": [
    "df['Year'] = df['Year'].astype(int)"
   ]
  },
  {
   "cell_type": "code",
   "execution_count": 8,
   "id": "41a92120-bc7d-44ab-b362-a84caab24697",
   "metadata": {
    "execution": {
     "iopub.execute_input": "2021-12-09T15:01:02.671320Z",
     "iopub.status.busy": "2021-12-09T15:01:02.670790Z",
     "iopub.status.idle": "2021-12-09T15:01:02.713897Z",
     "shell.execute_reply": "2021-12-09T15:01:02.712728Z",
     "shell.execute_reply.started": "2021-12-09T15:01:02.671279Z"
    },
    "tags": []
   },
   "outputs": [],
   "source": [
    "df = df[df['Year'] <= 2021]"
   ]
  },
  {
   "cell_type": "code",
   "execution_count": 9,
   "id": "fe6f41f3-c013-4b7b-bc14-3b1c7fcaddb1",
   "metadata": {
    "execution": {
     "iopub.execute_input": "2021-12-09T15:01:03.553975Z",
     "iopub.status.busy": "2021-12-09T15:01:03.553360Z",
     "iopub.status.idle": "2021-12-09T15:01:03.562914Z",
     "shell.execute_reply": "2021-12-09T15:01:03.561819Z",
     "shell.execute_reply.started": "2021-12-09T15:01:03.553932Z"
    },
    "tags": []
   },
   "outputs": [
    {
     "data": {
      "text/plain": [
       "array(['< 2 carbonate chemistry parameters', 'No answer from authors',\n",
       "       'Data lost', nan], dtype=object)"
      ]
     },
     "execution_count": 9,
     "metadata": {},
     "output_type": "execute_result"
    }
   ],
   "source": [
    "df['Reason for non inclusion'].unique()"
   ]
  },
  {
   "cell_type": "code",
   "execution_count": 10,
   "id": "73232ac4-46cc-4482-bed0-e9f7ed9e0be9",
   "metadata": {
    "execution": {
     "iopub.execute_input": "2021-12-09T15:01:04.222526Z",
     "iopub.status.busy": "2021-12-09T15:01:04.221944Z",
     "iopub.status.idle": "2021-12-09T15:01:04.235563Z",
     "shell.execute_reply": "2021-12-09T15:01:04.234514Z",
     "shell.execute_reply.started": "2021-12-09T15:01:04.222487Z"
    },
    "tags": []
   },
   "outputs": [],
   "source": [
    "a = df[df['Included/Not included'] == 'Included']\n",
    "b = df[df['Reason for non inclusion'] == 'No answer from authors']\n",
    "c = df[df['Reason for non inclusion'] == '< 2 carbonate chemistry parameters']\n",
    "d = df[df['Reason for non inclusion'] == 'Data lost']"
   ]
  },
  {
   "cell_type": "code",
   "execution_count": 11,
   "id": "19d3f5ef-2a81-4cf3-80dd-b9781db1b374",
   "metadata": {
    "execution": {
     "iopub.execute_input": "2021-12-09T15:01:04.818902Z",
     "iopub.status.busy": "2021-12-09T15:01:04.818477Z",
     "iopub.status.idle": "2021-12-09T15:01:04.838838Z",
     "shell.execute_reply": "2021-12-09T15:01:04.837766Z",
     "shell.execute_reply.started": "2021-12-09T15:01:04.818862Z"
    },
    "tags": []
   },
   "outputs": [
    {
     "data": {
      "text/plain": [
       "Year\n",
       "1993       1\n",
       "2000       2\n",
       "2001       5\n",
       "2002       7\n",
       "2004       8\n",
       "2006       9\n",
       "2007      12\n",
       "2008      20\n",
       "2009      33\n",
       "2010      47\n",
       "2011      68\n",
       "2012     105\n",
       "2013     200\n",
       "2014     303\n",
       "2015     394\n",
       "2016     503\n",
       "2017     645\n",
       "2018     821\n",
       "2019     949\n",
       "2020    1050\n",
       "2021    1100\n",
       "dtype: int64"
      ]
     },
     "execution_count": 11,
     "metadata": {},
     "output_type": "execute_result"
    }
   ],
   "source": [
    "a1 = a.groupby('Year').size().cumsum()\n",
    "b1 = b.groupby('Year').size().cumsum()\n",
    "c1 = c.groupby('Year').size().cumsum()\n",
    "d1 = d.groupby('Year').size().cumsum()\n",
    "b1"
   ]
  },
  {
   "cell_type": "code",
   "execution_count": 12,
   "id": "c48bacfd-cb38-4ccc-9b7c-b2092f444e76",
   "metadata": {
    "execution": {
     "iopub.execute_input": "2021-12-09T15:01:05.011125Z",
     "iopub.status.busy": "2021-12-09T15:01:05.010539Z",
     "iopub.status.idle": "2021-12-09T15:01:05.545908Z",
     "shell.execute_reply": "2021-12-09T15:01:05.544871Z",
     "shell.execute_reply.started": "2021-12-09T15:01:05.011077Z"
    },
    "tags": []
   },
   "outputs": [
    {
     "data": {
      "image/png": "[encoded data removed]",
      "text/plain": [
       "<Figure size 720x432 with 1 Axes>"
      ]
     },
     "metadata": {
      "needs_background": "light"
     },
     "output_type": "display_data"
    }
   ],
   "source": [
    "fig, ax = plt.subplots(figsize=[10,6])\n",
    "\n",
    "ax.plot(a1, label=\"Archived\")\n",
    "ax.scatter(x=a1.index, y=a1, marker='.', s=50)\n",
    "ax.plot(b1, label=\"Not obtained\")\n",
    "ax.scatter(x=b1.index, y=b1, marker='.', s=50)\n",
    "ax.plot(c1, label=\"Incomplete\")\n",
    "ax.scatter(x=c1.index, y=c1, marker='.', s=50)\n",
    "ax.plot(d1, label=\"Data lost\")\n",
    "ax.scatter(x=d1.index, y=d1, marker='.', s=50)\n",
    "\n",
    "ax.grid(axis='both', zorder=0, color='gainsboro', linestyle='--')\n",
    "ax.legend()\n",
    "plt.show()"
   ]
  },
  {
   "cell_type": "code",
   "execution_count": null,
   "id": "e5465ccf-e6bd-48ef-ab23-e0763cfe544f",
   "metadata": {},
   "outputs": [],
   "source": []
  }
 ],
 "metadata": {
  "kernelspec": {
   "display_name": "Python 3 (ipykernel)",
   "language": "python",
   "name": "python3"
  },
  "language_info": {
   "codemirror_mode": {
    "name": "ipython",
    "version": 3
   },
   "file_extension": ".py",
   "mimetype": "text/x-python",
   "name": "python",
   "nbconvert_exporter": "python",
   "pygments_lexer": "ipython3",
   "version": "3.8.3"
  }
 },
 "nbformat": 4,
 "nbformat_minor": 5
}
