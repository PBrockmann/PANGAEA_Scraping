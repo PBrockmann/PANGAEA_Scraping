{
 "cells": [
  {
   "cell_type": "code",
   "execution_count": 1,
   "id": "5a0e135e-893e-48f7-9e6a-919225b2a3c9",
   "metadata": {
    "execution": {
     "iopub.execute_input": "2021-12-10T11:15:41.785532Z",
     "iopub.status.busy": "2021-12-10T11:15:41.784644Z",
     "iopub.status.idle": "2021-12-10T11:15:42.853164Z",
     "shell.execute_reply": "2021-12-10T11:15:42.852077Z",
     "shell.execute_reply.started": "2021-12-10T11:15:41.785420Z"
    },
    "tags": []
   },
   "outputs": [],
   "source": [
    "import pandas as pd\n",
    "import numpy as np\n",
    "import matplotlib.pyplot as plt"
   ]
  },
  {
   "cell_type": "code",
   "execution_count": 27,
   "id": "0620a4c9-7d11-4a6b-9bd5-ce7b382ba94c",
   "metadata": {
    "execution": {
     "iopub.execute_input": "2021-12-10T11:29:35.296841Z",
     "iopub.status.busy": "2021-12-10T11:29:35.296260Z",
     "iopub.status.idle": "2021-12-10T11:29:35.414035Z",
     "shell.execute_reply": "2021-12-10T11:29:35.412963Z",
     "shell.execute_reply.started": "2021-12-10T11:29:35.296800Z"
    },
    "tags": []
   },
   "outputs": [
    {
     "data": {
      "text/html": [
       "<div>\n",
       "<style scoped>\n",
       "    .dataframe tbody tr th:only-of-type {\n",
       "        vertical-align: middle;\n",
       "    }\n",
       "\n",
       "    .dataframe tbody tr th {\n",
       "        vertical-align: top;\n",
       "    }\n",
       "\n",
       "    .dataframe thead th {\n",
       "        text-align: right;\n",
       "    }\n",
       "</style>\n",
       "<table border=\"1\" class=\"dataframe\">\n",
       "  <thead>\n",
       "    <tr style=\"text-align: right;\">\n",
       "      <th></th>\n",
       "      <th>Reference</th>\n",
       "      <th>DOI</th>\n",
       "      <th>DOI_PANGAEA</th>\n",
       "      <th>Included/Not included</th>\n",
       "      <th>Reason for non inclusion</th>\n",
       "      <th>Country</th>\n",
       "      <th>Year</th>\n",
       "    </tr>\n",
       "  </thead>\n",
       "  <tbody>\n",
       "    <tr>\n",
       "      <th>0</th>\n",
       "      <td>Ahnelt, H., Schade, F. M., &amp; Wegner, M., 2016....</td>\n",
       "      <td>doi:10.1111/jfd.12417</td>\n",
       "      <td>NaN</td>\n",
       "      <td>Not included</td>\n",
       "      <td>&lt; 2 carbonate chemistry parameters</td>\n",
       "      <td>EU-Austria</td>\n",
       "      <td>2016</td>\n",
       "    </tr>\n",
       "    <tr>\n",
       "      <th>1</th>\n",
       "      <td>Ahrendt, S., Mobberley, J., Visscher, P., Koss...</td>\n",
       "      <td>doi:10.3390/min4010145</td>\n",
       "      <td>NaN</td>\n",
       "      <td>Not included</td>\n",
       "      <td>&lt; 2 carbonate chemistry parameters</td>\n",
       "      <td>USA</td>\n",
       "      <td>2014</td>\n",
       "    </tr>\n",
       "    <tr>\n",
       "      <th>2</th>\n",
       "      <td>Aires, T., Serebryakova, A., Viard, F., Serrão...</td>\n",
       "      <td>doi:10.7717/peerj.4377</td>\n",
       "      <td>NaN</td>\n",
       "      <td>Not included</td>\n",
       "      <td>&lt; 2 carbonate chemistry parameters</td>\n",
       "      <td>EU-Portugal</td>\n",
       "      <td>2018</td>\n",
       "    </tr>\n",
       "    <tr>\n",
       "      <th>3</th>\n",
       "      <td>Al-Awlaqi, N. A. N., Shazili, N. A. M., &amp; Yuso...</td>\n",
       "      <td>doi:10.17576/mjas-2019-2306-10</td>\n",
       "      <td>NaN</td>\n",
       "      <td>Not included</td>\n",
       "      <td>&lt; 2 carbonate chemistry parameters</td>\n",
       "      <td>Malaysia</td>\n",
       "      <td>2019</td>\n",
       "    </tr>\n",
       "    <tr>\n",
       "      <th>4</th>\n",
       "      <td>Al-Janabi, B., Kruse, I., Graiff, A., Winde, V...</td>\n",
       "      <td>doi:10.1371/journal.pone.0152948</td>\n",
       "      <td>NaN</td>\n",
       "      <td>Not included</td>\n",
       "      <td>&lt; 2 carbonate chemistry parameters</td>\n",
       "      <td>EU-Germany</td>\n",
       "      <td>2016</td>\n",
       "    </tr>\n",
       "    <tr>\n",
       "      <th>...</th>\n",
       "      <td>...</td>\n",
       "      <td>...</td>\n",
       "      <td>...</td>\n",
       "      <td>...</td>\n",
       "      <td>...</td>\n",
       "      <td>...</td>\n",
       "      <td>...</td>\n",
       "    </tr>\n",
       "    <tr>\n",
       "      <th>2818</th>\n",
       "      <td>Zittier, Z. M. C., Hirse, T., &amp; Pörtner, H.-O....</td>\n",
       "      <td>doi:10.1007/s00227-012-2073-8</td>\n",
       "      <td>10.1594/PANGAEA.821402</td>\n",
       "      <td>Included</td>\n",
       "      <td>NaN</td>\n",
       "      <td>EU-Germany</td>\n",
       "      <td>2013</td>\n",
       "    </tr>\n",
       "    <tr>\n",
       "      <th>2819</th>\n",
       "      <td>Ziveri, P., Passaro, M., Incarbona, A., Milazz...</td>\n",
       "      <td>doi:10.1086/BBLv226n3p282</td>\n",
       "      <td>10.1594/PANGAEA.838830</td>\n",
       "      <td>Included</td>\n",
       "      <td>NaN</td>\n",
       "      <td>EU-Spain</td>\n",
       "      <td>2014</td>\n",
       "    </tr>\n",
       "    <tr>\n",
       "      <th>2820</th>\n",
       "      <td>Zlatkin, R. L., &amp; Heuer, R. M., 2019. Ocean ac...</td>\n",
       "      <td>doi:10.1098/rsos.191041</td>\n",
       "      <td>10.1594/PANGAEA.912287</td>\n",
       "      <td>Included</td>\n",
       "      <td>NaN</td>\n",
       "      <td>USA</td>\n",
       "      <td>2019</td>\n",
       "    </tr>\n",
       "    <tr>\n",
       "      <th>2821</th>\n",
       "      <td>Zondervan, I., Rost, B., &amp; Riebesell, U., 2002...</td>\n",
       "      <td>doi:10.1016/S0022-0981(02)00037-0</td>\n",
       "      <td>10.1594/PANGAEA.726883</td>\n",
       "      <td>Included</td>\n",
       "      <td>NaN</td>\n",
       "      <td>EU-Germany</td>\n",
       "      <td>2002</td>\n",
       "    </tr>\n",
       "    <tr>\n",
       "      <th>2822</th>\n",
       "      <td>Zondervan, I., Zeebe, R. E., Rost, B., &amp; Riebe...</td>\n",
       "      <td>doi:10.1029/2000GB001321</td>\n",
       "      <td>10.1594/PANGAEA.726883</td>\n",
       "      <td>Included</td>\n",
       "      <td>NaN</td>\n",
       "      <td>EU-Germany</td>\n",
       "      <td>2001</td>\n",
       "    </tr>\n",
       "  </tbody>\n",
       "</table>\n",
       "<p>2823 rows × 7 columns</p>\n",
       "</div>"
      ],
      "text/plain": [
       "                                              Reference  \\\n",
       "0     Ahnelt, H., Schade, F. M., & Wegner, M., 2016....   \n",
       "1     Ahrendt, S., Mobberley, J., Visscher, P., Koss...   \n",
       "2     Aires, T., Serebryakova, A., Viard, F., Serrão...   \n",
       "3     Al-Awlaqi, N. A. N., Shazili, N. A. M., & Yuso...   \n",
       "4     Al-Janabi, B., Kruse, I., Graiff, A., Winde, V...   \n",
       "...                                                 ...   \n",
       "2818  Zittier, Z. M. C., Hirse, T., & Pörtner, H.-O....   \n",
       "2819  Ziveri, P., Passaro, M., Incarbona, A., Milazz...   \n",
       "2820  Zlatkin, R. L., & Heuer, R. M., 2019. Ocean ac...   \n",
       "2821  Zondervan, I., Rost, B., & Riebesell, U., 2002...   \n",
       "2822  Zondervan, I., Zeebe, R. E., Rost, B., & Riebe...   \n",
       "\n",
       "                                    DOI             DOI_PANGAEA  \\\n",
       "0                 doi:10.1111/jfd.12417                     NaN   \n",
       "1                doi:10.3390/min4010145                     NaN   \n",
       "2                doi:10.7717/peerj.4377                     NaN   \n",
       "3        doi:10.17576/mjas-2019-2306-10                     NaN   \n",
       "4      doi:10.1371/journal.pone.0152948                     NaN   \n",
       "...                                 ...                     ...   \n",
       "2818      doi:10.1007/s00227-012-2073-8  10.1594/PANGAEA.821402   \n",
       "2819          doi:10.1086/BBLv226n3p282  10.1594/PANGAEA.838830   \n",
       "2820            doi:10.1098/rsos.191041  10.1594/PANGAEA.912287   \n",
       "2821  doi:10.1016/S0022-0981(02)00037-0  10.1594/PANGAEA.726883   \n",
       "2822           doi:10.1029/2000GB001321  10.1594/PANGAEA.726883   \n",
       "\n",
       "     Included/Not included            Reason for non inclusion      Country  \\\n",
       "0             Not included  < 2 carbonate chemistry parameters   EU-Austria   \n",
       "1             Not included  < 2 carbonate chemistry parameters          USA   \n",
       "2             Not included  < 2 carbonate chemistry parameters  EU-Portugal   \n",
       "3             Not included  < 2 carbonate chemistry parameters     Malaysia   \n",
       "4             Not included  < 2 carbonate chemistry parameters   EU-Germany   \n",
       "...                    ...                                 ...          ...   \n",
       "2818              Included                                 NaN   EU-Germany   \n",
       "2819              Included                                 NaN     EU-Spain   \n",
       "2820              Included                                 NaN          USA   \n",
       "2821              Included                                 NaN   EU-Germany   \n",
       "2822              Included                                 NaN   EU-Germany   \n",
       "\n",
       "      Year  \n",
       "0     2016  \n",
       "1     2014  \n",
       "2     2018  \n",
       "3     2019  \n",
       "4     2016  \n",
       "...    ...  \n",
       "2818  2013  \n",
       "2819  2014  \n",
       "2820  2019  \n",
       "2821  2002  \n",
       "2822  2001  \n",
       "\n",
       "[2823 rows x 7 columns]"
      ]
     },
     "execution_count": 27,
     "metadata": {},
     "output_type": "execute_result"
    }
   ],
   "source": [
    "df = pd.read_csv(\"http://oa-icc.ipsl.fr/checking/OAICC_20211203.csv\")\n",
    "df"
   ]
  },
  {
   "cell_type": "code",
   "execution_count": 28,
   "id": "c4eac4ec-0855-46b2-8ccb-12fafa6d7283",
   "metadata": {
    "execution": {
     "iopub.execute_input": "2021-12-10T11:29:36.323630Z",
     "iopub.status.busy": "2021-12-10T11:29:36.323044Z",
     "iopub.status.idle": "2021-12-10T11:29:36.332492Z",
     "shell.execute_reply": "2021-12-10T11:29:36.331454Z",
     "shell.execute_reply.started": "2021-12-10T11:29:36.323587Z"
    },
    "tags": []
   },
   "outputs": [
    {
     "data": {
      "text/plain": [
       "array(['2016', '2014', '2018', '2019', '2012', '2020', '2013', '2011',\n",
       "       '2017', '2015', '2021', '2009', '1999', '2010', '2005', '2008',\n",
       "       'in press', '2007', '1995', '2002', '2001', '2022', '2004', '2006',\n",
       "       '1993', '2000', '1997', '2003', '1991', '1994', '1998', '1996',\n",
       "       '1967'], dtype=object)"
      ]
     },
     "execution_count": 28,
     "metadata": {},
     "output_type": "execute_result"
    }
   ],
   "source": [
    "df['Year'].unique()"
   ]
  },
  {
   "cell_type": "code",
   "execution_count": 29,
   "id": "06b86e39-4666-4be1-9196-7296f2a23f29",
   "metadata": {
    "execution": {
     "iopub.execute_input": "2021-12-10T11:29:37.587097Z",
     "iopub.status.busy": "2021-12-10T11:29:37.586542Z",
     "iopub.status.idle": "2021-12-10T11:29:37.597965Z",
     "shell.execute_reply": "2021-12-10T11:29:37.596975Z",
     "shell.execute_reply.started": "2021-12-10T11:29:37.587057Z"
    },
    "tags": []
   },
   "outputs": [
    {
     "data": {
      "text/plain": [
       "array(['2016', '2014', '2018', '2019', '2012', '2020', '2013', '2011',\n",
       "       '2017', '2015', '2021', '2009', '1999', '2010', '2005', '2008',\n",
       "       '2022', '2007', '1995', '2002', '2001', '2004', '2006', '1993',\n",
       "       '2000', '1997', '2003', '1991', '1994', '1998', '1996', '1967'],\n",
       "      dtype=object)"
      ]
     },
     "execution_count": 29,
     "metadata": {},
     "output_type": "execute_result"
    }
   ],
   "source": [
    "df['Year'].replace('in press', '2022', inplace=True)\n",
    "df['Year'].unique()"
   ]
  },
  {
   "cell_type": "code",
   "execution_count": 30,
   "id": "b34c7328-31ae-4006-8a25-a88a520c2e07",
   "metadata": {
    "execution": {
     "iopub.execute_input": "2021-12-10T11:29:42.508772Z",
     "iopub.status.busy": "2021-12-10T11:29:42.508212Z",
     "iopub.status.idle": "2021-12-10T11:29:42.516519Z",
     "shell.execute_reply": "2021-12-10T11:29:42.515442Z",
     "shell.execute_reply.started": "2021-12-10T11:29:42.508733Z"
    },
    "tags": []
   },
   "outputs": [],
   "source": [
    "df['Year'] = df['Year'].astype(int)"
   ]
  },
  {
   "cell_type": "code",
   "execution_count": 31,
   "id": "fe6f41f3-c013-4b7b-bc14-3b1c7fcaddb1",
   "metadata": {
    "execution": {
     "iopub.execute_input": "2021-12-10T11:29:50.755515Z",
     "iopub.status.busy": "2021-12-10T11:29:50.754890Z",
     "iopub.status.idle": "2021-12-10T11:29:50.764187Z",
     "shell.execute_reply": "2021-12-10T11:29:50.763142Z",
     "shell.execute_reply.started": "2021-12-10T11:29:50.755473Z"
    },
    "tags": []
   },
   "outputs": [
    {
     "data": {
      "text/plain": [
       "array(['< 2 carbonate chemistry parameters', 'No answer from authors',\n",
       "       'Data lost', nan], dtype=object)"
      ]
     },
     "execution_count": 31,
     "metadata": {},
     "output_type": "execute_result"
    }
   ],
   "source": [
    "df['Reason for non inclusion'].unique()"
   ]
  },
  {
   "cell_type": "code",
   "execution_count": 32,
   "id": "73232ac4-46cc-4482-bed0-e9f7ed9e0be9",
   "metadata": {
    "execution": {
     "iopub.execute_input": "2021-12-10T11:29:51.507330Z",
     "iopub.status.busy": "2021-12-10T11:29:51.506754Z",
     "iopub.status.idle": "2021-12-10T11:29:51.519216Z",
     "shell.execute_reply": "2021-12-10T11:29:51.518289Z",
     "shell.execute_reply.started": "2021-12-10T11:29:51.507291Z"
    },
    "tags": []
   },
   "outputs": [],
   "source": [
    "a = df[df['Included/Not included'] == 'Included']\n",
    "b = df[df['Reason for non inclusion'] == 'No answer from authors']\n",
    "c = df[df['Reason for non inclusion'] == '< 2 carbonate chemistry parameters']\n",
    "d = df[df['Reason for non inclusion'] == 'Data lost']"
   ]
  },
  {
   "cell_type": "code",
   "execution_count": 36,
   "id": "19d3f5ef-2a81-4cf3-80dd-b9781db1b374",
   "metadata": {
    "execution": {
     "iopub.execute_input": "2021-12-10T11:30:09.003357Z",
     "iopub.status.busy": "2021-12-10T11:30:09.002855Z",
     "iopub.status.idle": "2021-12-10T11:30:09.020986Z",
     "shell.execute_reply": "2021-12-10T11:30:09.019893Z",
     "shell.execute_reply.started": "2021-12-10T11:30:09.003315Z"
    },
    "tags": []
   },
   "outputs": [
    {
     "data": {
      "text/plain": [
       "Year\n",
       "1991     1\n",
       "1993     2\n",
       "1997     3\n",
       "1999     6\n",
       "2001     8\n",
       "2003    10\n",
       "2006    12\n",
       "2012    13\n",
       "2017    14\n",
       "2018    15\n",
       "dtype: int64"
      ]
     },
     "execution_count": 36,
     "metadata": {},
     "output_type": "execute_result"
    }
   ],
   "source": [
    "a1 = a.groupby('Year').size().cumsum()\n",
    "b1 = b.groupby('Year').size().cumsum()\n",
    "c1 = c.groupby('Year').size().cumsum()\n",
    "d1 = d.groupby('Year').size().cumsum()\n",
    "d1"
   ]
  },
  {
   "cell_type": "code",
   "execution_count": 37,
   "id": "c48bacfd-cb38-4ccc-9b7c-b2092f444e76",
   "metadata": {
    "execution": {
     "iopub.execute_input": "2021-12-10T11:30:11.179420Z",
     "iopub.status.busy": "2021-12-10T11:30:11.178098Z",
     "iopub.status.idle": "2021-12-10T11:30:11.622081Z",
     "shell.execute_reply": "2021-12-10T11:30:11.621053Z",
     "shell.execute_reply.started": "2021-12-10T11:30:11.179375Z"
    },
    "tags": []
   },
   "outputs": [
    {
     "data": {
      "image/png": "[encoded data removed]",
      "text/plain": [
       "<Figure size 720x432 with 1 Axes>"
      ]
     },
     "metadata": {
      "needs_background": "light"
     },
     "output_type": "display_data"
    }
   ],
   "source": [
    "fig, ax = plt.subplots(figsize=[10,6])\n",
    "\n",
    "ax.plot(a1, label=\"Archived\")\n",
    "ax.scatter(x=a1.index, y=a1, marker='.', s=50)\n",
    "ax.plot(b1, label=\"Not obtained\")\n",
    "ax.scatter(x=b1.index, y=b1, marker='.', s=50)\n",
    "ax.plot(c1, label=\"Incomplete\")\n",
    "ax.scatter(x=c1.index, y=c1, marker='.', s=50)\n",
    "ax.plot(d1, label=\"Data lost\")\n",
    "ax.scatter(x=d1.index, y=d1, marker='.', s=50)\n",
    "\n",
    "ax.grid(axis='both', zorder=0, color='gainsboro', linestyle='--')\n",
    "ax.legend()\n",
    "ax.xaxis.set_ticks(np.arange(1965, 2025, 5))\n",
    "plt.show()"
   ]
  },
  {
   "cell_type": "code",
   "execution_count": null,
   "id": "e5465ccf-e6bd-48ef-ab23-e0763cfe544f",
   "metadata": {},
   "outputs": [],
   "source": []
  }
 ],
 "metadata": {
  "kernelspec": {
   "display_name": "Python 3 (ipykernel)",
   "language": "python",
   "name": "python3"
  },
  "language_info": {
   "codemirror_mode": {
    "name": "ipython",
    "version": 3
   },
   "file_extension": ".py",
   "mimetype": "text/x-python",
   "name": "python",
   "nbconvert_exporter": "python",
   "pygments_lexer": "ipython3",
   "version": "3.8.3"
  }
 },
 "nbformat": 4,
 "nbformat_minor": 5
}
