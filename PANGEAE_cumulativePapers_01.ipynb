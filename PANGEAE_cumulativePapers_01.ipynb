{
 "cells": [
  {
   "cell_type": "code",
   "execution_count": 1,
   "id": "5a0e135e-893e-48f7-9e6a-919225b2a3c9",
   "metadata": {
    "execution": {
     "iopub.execute_input": "2021-12-13T11:46:14.786950Z",
     "iopub.status.busy": "2021-12-13T11:46:14.785927Z",
     "iopub.status.idle": "2021-12-13T11:46:15.820152Z",
     "shell.execute_reply": "2021-12-13T11:46:15.819115Z",
     "shell.execute_reply.started": "2021-12-13T11:46:14.786844Z"
    },
    "tags": []
   },
   "outputs": [],
   "source": [
    "import pandas as pd\n",
    "import numpy as np\n",
    "import matplotlib.pyplot as plt"
   ]
  },
  {
   "cell_type": "code",
   "execution_count": 2,
   "id": "0620a4c9-7d11-4a6b-9bd5-ce7b382ba94c",
   "metadata": {
    "execution": {
     "iopub.execute_input": "2021-12-13T11:46:16.751070Z",
     "iopub.status.busy": "2021-12-13T11:46:16.750493Z",
     "iopub.status.idle": "2021-12-13T11:46:16.817070Z",
     "shell.execute_reply": "2021-12-13T11:46:16.815997Z",
     "shell.execute_reply.started": "2021-12-13T11:46:16.751029Z"
    },
    "tags": []
   },
   "outputs": [
    {
     "data": {
      "text/html": [
       "<div>\n",
       "<style scoped>\n",
       "    .dataframe tbody tr th:only-of-type {\n",
       "        vertical-align: middle;\n",
       "    }\n",
       "\n",
       "    .dataframe tbody tr th {\n",
       "        vertical-align: top;\n",
       "    }\n",
       "\n",
       "    .dataframe thead th {\n",
       "        text-align: right;\n",
       "    }\n",
       "</style>\n",
       "<table border=\"1\" class=\"dataframe\">\n",
       "  <thead>\n",
       "    <tr style=\"text-align: right;\">\n",
       "      <th></th>\n",
       "      <th>Reference</th>\n",
       "      <th>DOI</th>\n",
       "      <th>DOI_PANGAEA</th>\n",
       "      <th>Included/Not included</th>\n",
       "      <th>Reason for non inclusion</th>\n",
       "      <th>Country</th>\n",
       "      <th>Year</th>\n",
       "    </tr>\n",
       "  </thead>\n",
       "  <tbody>\n",
       "    <tr>\n",
       "      <th>0</th>\n",
       "      <td>Ahnelt, H., Schade, F. M., &amp; Wegner, M., 2016....</td>\n",
       "      <td>doi:10.1111/jfd.12417</td>\n",
       "      <td>NaN</td>\n",
       "      <td>Not included</td>\n",
       "      <td>&lt; 2 carbonate chemistry parameters</td>\n",
       "      <td>EU-Austria</td>\n",
       "      <td>2016</td>\n",
       "    </tr>\n",
       "    <tr>\n",
       "      <th>1</th>\n",
       "      <td>Ahrendt, S., Mobberley, J., Visscher, P., Koss...</td>\n",
       "      <td>doi:10.3390/min4010145</td>\n",
       "      <td>NaN</td>\n",
       "      <td>Not included</td>\n",
       "      <td>&lt; 2 carbonate chemistry parameters</td>\n",
       "      <td>USA</td>\n",
       "      <td>2014</td>\n",
       "    </tr>\n",
       "    <tr>\n",
       "      <th>2</th>\n",
       "      <td>Aires, T., Serebryakova, A., Viard, F., Serrão...</td>\n",
       "      <td>doi:10.7717/peerj.4377</td>\n",
       "      <td>NaN</td>\n",
       "      <td>Not included</td>\n",
       "      <td>&lt; 2 carbonate chemistry parameters</td>\n",
       "      <td>EU-Portugal</td>\n",
       "      <td>2018</td>\n",
       "    </tr>\n",
       "    <tr>\n",
       "      <th>3</th>\n",
       "      <td>Al-Awlaqi, N. A. N., Shazili, N. A. M., &amp; Yuso...</td>\n",
       "      <td>doi:10.17576/mjas-2019-2306-10</td>\n",
       "      <td>NaN</td>\n",
       "      <td>Not included</td>\n",
       "      <td>&lt; 2 carbonate chemistry parameters</td>\n",
       "      <td>Malaysia</td>\n",
       "      <td>2019</td>\n",
       "    </tr>\n",
       "    <tr>\n",
       "      <th>4</th>\n",
       "      <td>Al-Janabi, B., Kruse, I., Graiff, A., Winde, V...</td>\n",
       "      <td>doi:10.1371/journal.pone.0152948</td>\n",
       "      <td>NaN</td>\n",
       "      <td>Not included</td>\n",
       "      <td>&lt; 2 carbonate chemistry parameters</td>\n",
       "      <td>EU-Germany</td>\n",
       "      <td>2016</td>\n",
       "    </tr>\n",
       "    <tr>\n",
       "      <th>...</th>\n",
       "      <td>...</td>\n",
       "      <td>...</td>\n",
       "      <td>...</td>\n",
       "      <td>...</td>\n",
       "      <td>...</td>\n",
       "      <td>...</td>\n",
       "      <td>...</td>\n",
       "    </tr>\n",
       "    <tr>\n",
       "      <th>2830</th>\n",
       "      <td>Horn H. G., Boersma M., Garzke J., Sommer U. &amp;...</td>\n",
       "      <td>doi:10.1007/s00227-020-03683-0</td>\n",
       "      <td>10.1594/PANGAEA.934135</td>\n",
       "      <td>Included</td>\n",
       "      <td>NaN</td>\n",
       "      <td>EU-Germany</td>\n",
       "      <td>2020</td>\n",
       "    </tr>\n",
       "    <tr>\n",
       "      <th>2831</th>\n",
       "      <td>Edmunds P. J. &amp; Burgess S. C., 2020. Emergent ...</td>\n",
       "      <td>doi: 10.1242/jeb.217000</td>\n",
       "      <td>10.1594/PANGAEA.926042</td>\n",
       "      <td>Included</td>\n",
       "      <td>NaN</td>\n",
       "      <td>USA</td>\n",
       "      <td>2020</td>\n",
       "    </tr>\n",
       "    <tr>\n",
       "      <th>2832</th>\n",
       "      <td>Donham E. M., Hamilton S. L., Price N. N., Kra...</td>\n",
       "      <td>doi: 10.1016/j.jembe.2021.151548</td>\n",
       "      <td>10.1594/PANGAEA.934044</td>\n",
       "      <td>Included</td>\n",
       "      <td>NaN</td>\n",
       "      <td>USA</td>\n",
       "      <td>2021</td>\n",
       "    </tr>\n",
       "    <tr>\n",
       "      <th>2833</th>\n",
       "      <td>Paul, C., Sommer, U., Garzke, J., Moustaka-Gou...</td>\n",
       "      <td>doi: 10.1016/j.marenvres.2019.104847</td>\n",
       "      <td>10.1594/PANGAEA.869487</td>\n",
       "      <td>Included</td>\n",
       "      <td>NaN</td>\n",
       "      <td>EU-Germany</td>\n",
       "      <td>2016</td>\n",
       "    </tr>\n",
       "    <tr>\n",
       "      <th>2834</th>\n",
       "      <td>Park S., Ahn I.-Y., Sin E., Shim J. &amp; Kim T., ...</td>\n",
       "      <td>doi: 10.1016/j.marenvres.2019.104847</td>\n",
       "      <td>10.1594/PANGAEA.914371</td>\n",
       "      <td>Included</td>\n",
       "      <td>NaN</td>\n",
       "      <td>Republic of Korea</td>\n",
       "      <td>2020</td>\n",
       "    </tr>\n",
       "  </tbody>\n",
       "</table>\n",
       "<p>2835 rows × 7 columns</p>\n",
       "</div>"
      ],
      "text/plain": [
       "                                              Reference  \\\n",
       "0     Ahnelt, H., Schade, F. M., & Wegner, M., 2016....   \n",
       "1     Ahrendt, S., Mobberley, J., Visscher, P., Koss...   \n",
       "2     Aires, T., Serebryakova, A., Viard, F., Serrão...   \n",
       "3     Al-Awlaqi, N. A. N., Shazili, N. A. M., & Yuso...   \n",
       "4     Al-Janabi, B., Kruse, I., Graiff, A., Winde, V...   \n",
       "...                                                 ...   \n",
       "2830  Horn H. G., Boersma M., Garzke J., Sommer U. &...   \n",
       "2831  Edmunds P. J. & Burgess S. C., 2020. Emergent ...   \n",
       "2832  Donham E. M., Hamilton S. L., Price N. N., Kra...   \n",
       "2833  Paul, C., Sommer, U., Garzke, J., Moustaka-Gou...   \n",
       "2834  Park S., Ahn I.-Y., Sin E., Shim J. & Kim T., ...   \n",
       "\n",
       "                                       DOI             DOI_PANGAEA  \\\n",
       "0                    doi:10.1111/jfd.12417                     NaN   \n",
       "1                   doi:10.3390/min4010145                     NaN   \n",
       "2                   doi:10.7717/peerj.4377                     NaN   \n",
       "3           doi:10.17576/mjas-2019-2306-10                     NaN   \n",
       "4         doi:10.1371/journal.pone.0152948                     NaN   \n",
       "...                                    ...                     ...   \n",
       "2830        doi:10.1007/s00227-020-03683-0  10.1594/PANGAEA.934135   \n",
       "2831               doi: 10.1242/jeb.217000  10.1594/PANGAEA.926042   \n",
       "2832      doi: 10.1016/j.jembe.2021.151548  10.1594/PANGAEA.934044   \n",
       "2833  doi: 10.1016/j.marenvres.2019.104847  10.1594/PANGAEA.869487   \n",
       "2834  doi: 10.1016/j.marenvres.2019.104847  10.1594/PANGAEA.914371   \n",
       "\n",
       "     Included/Not included            Reason for non inclusion  \\\n",
       "0             Not included  < 2 carbonate chemistry parameters   \n",
       "1             Not included  < 2 carbonate chemistry parameters   \n",
       "2             Not included  < 2 carbonate chemistry parameters   \n",
       "3             Not included  < 2 carbonate chemistry parameters   \n",
       "4             Not included  < 2 carbonate chemistry parameters   \n",
       "...                    ...                                 ...   \n",
       "2830              Included                                 NaN   \n",
       "2831              Included                                 NaN   \n",
       "2832              Included                                 NaN   \n",
       "2833              Included                                 NaN   \n",
       "2834              Included                                 NaN   \n",
       "\n",
       "                Country  Year  \n",
       "0            EU-Austria  2016  \n",
       "1                   USA  2014  \n",
       "2           EU-Portugal  2018  \n",
       "3              Malaysia  2019  \n",
       "4            EU-Germany  2016  \n",
       "...                 ...   ...  \n",
       "2830         EU-Germany  2020  \n",
       "2831                USA  2020  \n",
       "2832                USA  2021  \n",
       "2833         EU-Germany  2016  \n",
       "2834  Republic of Korea  2020  \n",
       "\n",
       "[2835 rows x 7 columns]"
      ]
     },
     "execution_count": 2,
     "metadata": {},
     "output_type": "execute_result"
    }
   ],
   "source": [
    "df = pd.read_csv(\"OAICC_20211210.csv\")\n",
    "df"
   ]
  },
  {
   "cell_type": "code",
   "execution_count": 3,
   "id": "c4eac4ec-0855-46b2-8ccb-12fafa6d7283",
   "metadata": {
    "execution": {
     "iopub.execute_input": "2021-12-13T11:46:17.430774Z",
     "iopub.status.busy": "2021-12-13T11:46:17.430308Z",
     "iopub.status.idle": "2021-12-13T11:46:17.440023Z",
     "shell.execute_reply": "2021-12-13T11:46:17.439123Z",
     "shell.execute_reply.started": "2021-12-13T11:46:17.430734Z"
    },
    "tags": []
   },
   "outputs": [
    {
     "data": {
      "text/plain": [
       "array(['2016', '2014', '2018', '2019', '2012', '2020', '2013', '2011',\n",
       "       '2017', '2015', '2021', '2009', '1999', '2010', '2005', '2008',\n",
       "       'in press', '2007', '1995', '2002', '2001', '2022', '2004', '2006',\n",
       "       '1993', '2000', '1997', '2003', '1991', '1994', '1998', '1996',\n",
       "       '1967'], dtype=object)"
      ]
     },
     "execution_count": 3,
     "metadata": {},
     "output_type": "execute_result"
    }
   ],
   "source": [
    "df['Year'].unique()"
   ]
  },
  {
   "cell_type": "code",
   "execution_count": 4,
   "id": "06b86e39-4666-4be1-9196-7296f2a23f29",
   "metadata": {
    "execution": {
     "iopub.execute_input": "2021-12-13T11:46:18.076107Z",
     "iopub.status.busy": "2021-12-13T11:46:18.075574Z",
     "iopub.status.idle": "2021-12-13T11:46:18.086183Z",
     "shell.execute_reply": "2021-12-13T11:46:18.085300Z",
     "shell.execute_reply.started": "2021-12-13T11:46:18.076065Z"
    },
    "tags": []
   },
   "outputs": [
    {
     "data": {
      "text/plain": [
       "array(['2016', '2014', '2018', '2019', '2012', '2020', '2013', '2011',\n",
       "       '2017', '2015', '2021', '2009', '1999', '2010', '2005', '2008',\n",
       "       '2022', '2007', '1995', '2002', '2001', '2004', '2006', '1993',\n",
       "       '2000', '1997', '2003', '1991', '1994', '1998', '1996', '1967'],\n",
       "      dtype=object)"
      ]
     },
     "execution_count": 4,
     "metadata": {},
     "output_type": "execute_result"
    }
   ],
   "source": [
    "df['Year'].replace('in press', '2022', inplace=True)\n",
    "df['Year'].unique()"
   ]
  },
  {
   "cell_type": "code",
   "execution_count": 5,
   "id": "b34c7328-31ae-4006-8a25-a88a520c2e07",
   "metadata": {
    "execution": {
     "iopub.execute_input": "2021-12-13T11:46:18.486679Z",
     "iopub.status.busy": "2021-12-13T11:46:18.486202Z",
     "iopub.status.idle": "2021-12-13T11:46:18.494622Z",
     "shell.execute_reply": "2021-12-13T11:46:18.493397Z",
     "shell.execute_reply.started": "2021-12-13T11:46:18.486639Z"
    },
    "tags": []
   },
   "outputs": [],
   "source": [
    "df['Year'] = df['Year'].astype(int)"
   ]
  },
  {
   "cell_type": "code",
   "execution_count": 6,
   "id": "2bb45fe9-4713-47c1-9870-d48e8465ff87",
   "metadata": {
    "execution": {
     "iopub.execute_input": "2021-12-13T11:46:18.839015Z",
     "iopub.status.busy": "2021-12-13T11:46:18.838531Z",
     "iopub.status.idle": "2021-12-13T11:46:18.843448Z",
     "shell.execute_reply": "2021-12-13T11:46:18.842503Z",
     "shell.execute_reply.started": "2021-12-13T11:46:18.838975Z"
    },
    "tags": []
   },
   "outputs": [],
   "source": [
    "#df = df[df['Year'] < 2022]"
   ]
  },
  {
   "cell_type": "code",
   "execution_count": 7,
   "id": "fe6f41f3-c013-4b7b-bc14-3b1c7fcaddb1",
   "metadata": {
    "execution": {
     "iopub.execute_input": "2021-12-13T11:46:20.662705Z",
     "iopub.status.busy": "2021-12-13T11:46:20.662216Z",
     "iopub.status.idle": "2021-12-13T11:46:20.670431Z",
     "shell.execute_reply": "2021-12-13T11:46:20.669555Z",
     "shell.execute_reply.started": "2021-12-13T11:46:20.662665Z"
    },
    "tags": []
   },
   "outputs": [
    {
     "data": {
      "text/plain": [
       "array(['< 2 carbonate chemistry parameters', 'No answer from authors',\n",
       "       'Data lost', nan], dtype=object)"
      ]
     },
     "execution_count": 7,
     "metadata": {},
     "output_type": "execute_result"
    }
   ],
   "source": [
    "df['Reason for non inclusion'].unique()"
   ]
  },
  {
   "cell_type": "code",
   "execution_count": 8,
   "id": "73232ac4-46cc-4482-bed0-e9f7ed9e0be9",
   "metadata": {
    "execution": {
     "iopub.execute_input": "2021-12-13T11:46:21.301267Z",
     "iopub.status.busy": "2021-12-13T11:46:21.300798Z",
     "iopub.status.idle": "2021-12-13T11:46:21.315669Z",
     "shell.execute_reply": "2021-12-13T11:46:21.314512Z",
     "shell.execute_reply.started": "2021-12-13T11:46:21.301227Z"
    },
    "tags": []
   },
   "outputs": [],
   "source": [
    "a = df[df['Included/Not included'] == 'Included']\n",
    "b = df[df['Reason for non inclusion'] == 'No answer from authors']\n",
    "c = df[df['Reason for non inclusion'] == '< 2 carbonate chemistry parameters']\n",
    "d = df[df['Reason for non inclusion'] == 'Data lost']"
   ]
  },
  {
   "cell_type": "code",
   "execution_count": 9,
   "id": "19d3f5ef-2a81-4cf3-80dd-b9781db1b374",
   "metadata": {
    "execution": {
     "iopub.execute_input": "2021-12-13T11:46:21.976798Z",
     "iopub.status.busy": "2021-12-13T11:46:21.976067Z",
     "iopub.status.idle": "2021-12-13T11:46:21.994289Z",
     "shell.execute_reply": "2021-12-13T11:46:21.993072Z",
     "shell.execute_reply.started": "2021-12-13T11:46:21.976709Z"
    },
    "tags": []
   },
   "outputs": [
    {
     "data": {
      "text/plain": [
       "Year\n",
       "1991     1\n",
       "1993     2\n",
       "1997     3\n",
       "1999     6\n",
       "2001     8\n",
       "2003    10\n",
       "2006    12\n",
       "2012    13\n",
       "2017    14\n",
       "2018    15\n",
       "dtype: int64"
      ]
     },
     "execution_count": 9,
     "metadata": {},
     "output_type": "execute_result"
    }
   ],
   "source": [
    "a1 = a.groupby('Year').size().cumsum()\n",
    "b1 = b.groupby('Year').size().cumsum()\n",
    "c1 = c.groupby('Year').size().cumsum()\n",
    "d1 = d.groupby('Year').size().cumsum()\n",
    "d1"
   ]
  },
  {
   "cell_type": "code",
   "execution_count": 11,
   "id": "c48bacfd-cb38-4ccc-9b7c-b2092f444e76",
   "metadata": {
    "execution": {
     "iopub.execute_input": "2021-12-13T11:46:59.853808Z",
     "iopub.status.busy": "2021-12-13T11:46:59.853254Z",
     "iopub.status.idle": "2021-12-13T11:47:00.334616Z",
     "shell.execute_reply": "2021-12-13T11:47:00.333572Z",
     "shell.execute_reply.started": "2021-12-13T11:46:59.853767Z"
    },
    "tags": []
   },
   "outputs": [
    {
     "data": {
      "image/png": "[encoded data removed]",
      "text/plain": [
       "<Figure size 720x432 with 1 Axes>"
      ]
     },
     "metadata": {
      "needs_background": "light"
     },
     "output_type": "display_data"
    }
   ],
   "source": [
    "fig, ax = plt.subplots(figsize=[10,6])\n",
    "\n",
    "scatterSize = 20\n",
    "\n",
    "#==============================\n",
    "ax.plot(a1, label=\"Archived\")\n",
    "ax.scatter(x=a1.index, y=a1, marker='o', alpha=0.7, s=scatterSize)\n",
    "#==============================\n",
    "ax.plot(b1, label=\"Not obtained\")\n",
    "ax.scatter(x=b1.index, y=b1, marker='o', alpha=0.7, s=scatterSize)\n",
    "#==============================\n",
    "ax.plot(c1, label=\"Incomplete\")\n",
    "ax.scatter(x=c1.index, y=c1, marker='o', alpha=0.7, s=scatterSize)\n",
    "#==============================\n",
    "ax.plot(d1, label=\"Data lost\")\n",
    "ax.scatter(x=d1.index, y=d1, marker='o', alpha=0.7, s=scatterSize)\n",
    "\n",
    "#==============================\n",
    "for l in ax.lines:\n",
    "    x,y = l.get_data()\n",
    "    ax.annotate(y[-1], \n",
    "                xy=(2022, y[-1]),\n",
    "                ha='left', va='center',\n",
    "                xytext=(5, 0), textcoords='offset points', fontsize=10)\n",
    "\n",
    "#==============================\n",
    "ax.grid(axis='both', zorder=0, color='gainsboro', linestyle='--')\n",
    "ax.legend()\n",
    "#ax.set_xlim(1965, 2025)\n",
    "ax.xaxis.set_ticks(np.arange(1965, 2025, 5))\n",
    "\n",
    "ax.spines['right'].set_visible(False)\n",
    "ax.spines['top'].set_visible(False)\n",
    "\n",
    "plt.show()"
   ]
  },
  {
   "cell_type": "code",
   "execution_count": null,
   "id": "8ae49bfe-cac5-4096-a0f2-41b6b158f203",
   "metadata": {},
   "outputs": [],
   "source": []
  }
 ],
 "metadata": {
  "kernelspec": {
   "display_name": "Python 3 (ipykernel)",
   "language": "python",
   "name": "python3"
  },
  "language_info": {
   "codemirror_mode": {
    "name": "ipython",
    "version": 3
   },
   "file_extension": ".py",
   "mimetype": "text/x-python",
   "name": "python",
   "nbconvert_exporter": "python",
   "pygments_lexer": "ipython3",
   "version": "3.8.3"
  }
 },
 "nbformat": 4,
 "nbformat_minor": 5
}
